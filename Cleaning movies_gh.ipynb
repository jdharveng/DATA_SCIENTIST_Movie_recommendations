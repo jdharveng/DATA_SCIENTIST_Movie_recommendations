{
 "cells": [
  {
   "cell_type": "markdown",
   "metadata": {},
   "source": [
    "# Cleaning movie dataset\n",
    "#### by Jérôme d'Harveng\n",
    "\n",
    "<a id='table'></a>\n",
    "## Table of Contents\n",
    "<ul>\n",
    "<li><a href=\"#gathering\">Gathering the data</a></li>\n",
    "<li><a href=\"#assessing\">Assessing</a></li>\n",
    "<li><a href=\"#cleaning\">Cleaning</a></li>\n",
    "<li><a href=\"#exporting\">Exporting to csv</a></li>\n",
    "</ul>"
   ]
  },
  {
   "cell_type": "markdown",
   "metadata": {},
   "source": [
    "<a id='gathering'></a>\n",
    "## Gathering"
   ]
  },
  {
   "cell_type": "code",
   "execution_count": 1,
   "metadata": {},
   "outputs": [],
   "source": [
    "# import necessary libraries\n",
    "import pandas as pd\n",
    "import numpy as np\n",
    "import matplotlib.pyplot as plt\n",
    "import seaborn as sb"
   ]
  },
  {
   "cell_type": "code",
   "execution_count": 2,
   "metadata": {},
   "outputs": [],
   "source": [
    "df_movies = pd.read_csv('movie_metadata.csv')"
   ]
  },
  {
   "cell_type": "markdown",
   "metadata": {},
   "source": [
    "<a id='assessing'></a>\n",
    "## Assessing"
   ]
  },
  {
   "cell_type": "markdown",
   "metadata": {},
   "source": [
    "### Rearrange Columns"
   ]
  },
  {
   "cell_type": "code",
   "execution_count": 3,
   "metadata": {},
   "outputs": [
    {
     "data": {
      "text/plain": [
       "['color',\n",
       " 'director_name',\n",
       " 'num_critic_for_reviews',\n",
       " 'duration',\n",
       " 'director_facebook_likes',\n",
       " 'actor_3_facebook_likes',\n",
       " 'actor_2_name',\n",
       " 'actor_1_facebook_likes',\n",
       " 'gross',\n",
       " 'genres',\n",
       " 'actor_1_name',\n",
       " 'movie_title',\n",
       " 'num_voted_users',\n",
       " 'cast_total_facebook_likes',\n",
       " 'actor_3_name',\n",
       " 'facenumber_in_poster',\n",
       " 'plot_keywords',\n",
       " 'movie_imdb_link',\n",
       " 'num_user_for_reviews',\n",
       " 'language',\n",
       " 'country',\n",
       " 'content_rating',\n",
       " 'budget',\n",
       " 'title_year',\n",
       " 'actor_2_facebook_likes',\n",
       " 'imdb_score',\n",
       " 'aspect_ratio',\n",
       " 'movie_facebook_likes']"
      ]
     },
     "execution_count": 3,
     "metadata": {},
     "output_type": "execute_result"
    }
   ],
   "source": [
    "# list of column names\n",
    "column_names = df_movies.columns.values.tolist()\n",
    "column_names"
   ]
  },
  {
   "cell_type": "code",
   "execution_count": 4,
   "metadata": {},
   "outputs": [
    {
     "name": "stdout",
     "output_type": "stream",
     "text": [
      "28\n",
      "28\n"
     ]
    }
   ],
   "source": [
    "# rearrange the column orders \n",
    "new_column_order = ['movie_title','genres','director_name', 'actor_1_name', 'actor_2_name', 'actor_3_name',\n",
    "                     'country', 'language', 'color', 'plot_keywords', 'title_year','facenumber_in_poster' ,'budget', \n",
    "                    'gross', 'duration', 'aspect_ratio','movie_imdb_link', 'imdb_score', 'content_rating', \n",
    "                    'num_voted_users','num_user_for_reviews','num_critic_for_reviews','movie_facebook_likes', \n",
    "                    'director_facebook_likes', 'actor_1_facebook_likes','actor_2_facebook_likes',\n",
    "                    'actor_3_facebook_likes','cast_total_facebook_likes'\n",
    "                   ]\n",
    "\n",
    "# quick check\n",
    "print(len(column_names))\n",
    "print(len(new_column_order))"
   ]
  },
  {
   "cell_type": "code",
   "execution_count": 5,
   "metadata": {},
   "outputs": [],
   "source": [
    "# rearrange the columns\n",
    "df_movies = df_movies[new_column_order]"
   ]
  },
  {
   "cell_type": "markdown",
   "metadata": {},
   "source": [
    "### Columns "
   ]
  },
  {
   "cell_type": "code",
   "execution_count": 6,
   "metadata": {},
   "outputs": [
    {
     "name": "stdout",
     "output_type": "stream",
     "text": [
      "<class 'pandas.core.frame.DataFrame'>\n",
      "RangeIndex: 5043 entries, 0 to 5042\n",
      "Data columns (total 28 columns):\n",
      "movie_title                  5043 non-null object\n",
      "genres                       5043 non-null object\n",
      "director_name                4939 non-null object\n",
      "actor_1_name                 5036 non-null object\n",
      "actor_2_name                 5030 non-null object\n",
      "actor_3_name                 5020 non-null object\n",
      "country                      5038 non-null object\n",
      "language                     5031 non-null object\n",
      "color                        5024 non-null object\n",
      "plot_keywords                4890 non-null object\n",
      "title_year                   4935 non-null float64\n",
      "facenumber_in_poster         5030 non-null float64\n",
      "budget                       4551 non-null float64\n",
      "gross                        4159 non-null float64\n",
      "duration                     5028 non-null float64\n",
      "aspect_ratio                 4714 non-null float64\n",
      "movie_imdb_link              5043 non-null object\n",
      "imdb_score                   5043 non-null float64\n",
      "content_rating               4740 non-null object\n",
      "num_voted_users              5043 non-null int64\n",
      "num_user_for_reviews         5022 non-null float64\n",
      "num_critic_for_reviews       4993 non-null float64\n",
      "movie_facebook_likes         5043 non-null int64\n",
      "director_facebook_likes      4939 non-null float64\n",
      "actor_1_facebook_likes       5036 non-null float64\n",
      "actor_2_facebook_likes       5030 non-null float64\n",
      "actor_3_facebook_likes       5020 non-null float64\n",
      "cast_total_facebook_likes    5043 non-null int64\n",
      "dtypes: float64(13), int64(3), object(12)\n",
      "memory usage: 1.1+ MB\n"
     ]
    }
   ],
   "source": [
    "df_movies.info()"
   ]
  },
  {
   "cell_type": "markdown",
   "metadata": {},
   "source": [
    "### Visual inspection"
   ]
  },
  {
   "cell_type": "code",
   "execution_count": 7,
   "metadata": {
    "scrolled": true
   },
   "outputs": [
    {
     "data": {
      "text/plain": [
       "(5043, 28)"
      ]
     },
     "execution_count": 7,
     "metadata": {},
     "output_type": "execute_result"
    }
   ],
   "source": [
    "df_movies.shape"
   ]
  },
  {
   "cell_type": "code",
   "execution_count": 8,
   "metadata": {},
   "outputs": [
    {
     "data": {
      "text/html": [
       "<div>\n",
       "<style scoped>\n",
       "    .dataframe tbody tr th:only-of-type {\n",
       "        vertical-align: middle;\n",
       "    }\n",
       "\n",
       "    .dataframe tbody tr th {\n",
       "        vertical-align: top;\n",
       "    }\n",
       "\n",
       "    .dataframe thead th {\n",
       "        text-align: right;\n",
       "    }\n",
       "</style>\n",
       "<table border=\"1\" class=\"dataframe\">\n",
       "  <thead>\n",
       "    <tr style=\"text-align: right;\">\n",
       "      <th></th>\n",
       "      <th>movie_title</th>\n",
       "      <th>genres</th>\n",
       "      <th>director_name</th>\n",
       "      <th>actor_1_name</th>\n",
       "      <th>actor_2_name</th>\n",
       "      <th>actor_3_name</th>\n",
       "      <th>country</th>\n",
       "      <th>language</th>\n",
       "      <th>color</th>\n",
       "      <th>plot_keywords</th>\n",
       "      <th>...</th>\n",
       "      <th>content_rating</th>\n",
       "      <th>num_voted_users</th>\n",
       "      <th>num_user_for_reviews</th>\n",
       "      <th>num_critic_for_reviews</th>\n",
       "      <th>movie_facebook_likes</th>\n",
       "      <th>director_facebook_likes</th>\n",
       "      <th>actor_1_facebook_likes</th>\n",
       "      <th>actor_2_facebook_likes</th>\n",
       "      <th>actor_3_facebook_likes</th>\n",
       "      <th>cast_total_facebook_likes</th>\n",
       "    </tr>\n",
       "  </thead>\n",
       "  <tbody>\n",
       "    <tr>\n",
       "      <th>0</th>\n",
       "      <td>Avatar</td>\n",
       "      <td>Action|Adventure|Fantasy|Sci-Fi</td>\n",
       "      <td>James Cameron</td>\n",
       "      <td>CCH Pounder</td>\n",
       "      <td>Joel David Moore</td>\n",
       "      <td>Wes Studi</td>\n",
       "      <td>USA</td>\n",
       "      <td>English</td>\n",
       "      <td>Color</td>\n",
       "      <td>avatar|future|marine|native|paraplegic</td>\n",
       "      <td>...</td>\n",
       "      <td>PG-13</td>\n",
       "      <td>886204</td>\n",
       "      <td>3054.0</td>\n",
       "      <td>723.0</td>\n",
       "      <td>33000</td>\n",
       "      <td>0.0</td>\n",
       "      <td>1000.0</td>\n",
       "      <td>936.0</td>\n",
       "      <td>855.0</td>\n",
       "      <td>4834</td>\n",
       "    </tr>\n",
       "    <tr>\n",
       "      <th>1</th>\n",
       "      <td>Pirates of the Caribbean: At World's End</td>\n",
       "      <td>Action|Adventure|Fantasy</td>\n",
       "      <td>Gore Verbinski</td>\n",
       "      <td>Johnny Depp</td>\n",
       "      <td>Orlando Bloom</td>\n",
       "      <td>Jack Davenport</td>\n",
       "      <td>USA</td>\n",
       "      <td>English</td>\n",
       "      <td>Color</td>\n",
       "      <td>goddess|marriage ceremony|marriage proposal|pi...</td>\n",
       "      <td>...</td>\n",
       "      <td>PG-13</td>\n",
       "      <td>471220</td>\n",
       "      <td>1238.0</td>\n",
       "      <td>302.0</td>\n",
       "      <td>0</td>\n",
       "      <td>563.0</td>\n",
       "      <td>40000.0</td>\n",
       "      <td>5000.0</td>\n",
       "      <td>1000.0</td>\n",
       "      <td>48350</td>\n",
       "    </tr>\n",
       "    <tr>\n",
       "      <th>2</th>\n",
       "      <td>Spectre</td>\n",
       "      <td>Action|Adventure|Thriller</td>\n",
       "      <td>Sam Mendes</td>\n",
       "      <td>Christoph Waltz</td>\n",
       "      <td>Rory Kinnear</td>\n",
       "      <td>Stephanie Sigman</td>\n",
       "      <td>UK</td>\n",
       "      <td>English</td>\n",
       "      <td>Color</td>\n",
       "      <td>bomb|espionage|sequel|spy|terrorist</td>\n",
       "      <td>...</td>\n",
       "      <td>PG-13</td>\n",
       "      <td>275868</td>\n",
       "      <td>994.0</td>\n",
       "      <td>602.0</td>\n",
       "      <td>85000</td>\n",
       "      <td>0.0</td>\n",
       "      <td>11000.0</td>\n",
       "      <td>393.0</td>\n",
       "      <td>161.0</td>\n",
       "      <td>11700</td>\n",
       "    </tr>\n",
       "  </tbody>\n",
       "</table>\n",
       "<p>3 rows × 28 columns</p>\n",
       "</div>"
      ],
      "text/plain": [
       "                                 movie_title                           genres  \\\n",
       "0                                    Avatar   Action|Adventure|Fantasy|Sci-Fi   \n",
       "1  Pirates of the Caribbean: At World's End          Action|Adventure|Fantasy   \n",
       "2                                   Spectre         Action|Adventure|Thriller   \n",
       "\n",
       "    director_name     actor_1_name      actor_2_name      actor_3_name  \\\n",
       "0   James Cameron      CCH Pounder  Joel David Moore         Wes Studi   \n",
       "1  Gore Verbinski      Johnny Depp     Orlando Bloom    Jack Davenport   \n",
       "2      Sam Mendes  Christoph Waltz      Rory Kinnear  Stephanie Sigman   \n",
       "\n",
       "  country language  color                                      plot_keywords  \\\n",
       "0     USA  English  Color             avatar|future|marine|native|paraplegic   \n",
       "1     USA  English  Color  goddess|marriage ceremony|marriage proposal|pi...   \n",
       "2      UK  English  Color                bomb|espionage|sequel|spy|terrorist   \n",
       "\n",
       "             ...              content_rating  num_voted_users  \\\n",
       "0            ...                       PG-13           886204   \n",
       "1            ...                       PG-13           471220   \n",
       "2            ...                       PG-13           275868   \n",
       "\n",
       "   num_user_for_reviews  num_critic_for_reviews  movie_facebook_likes  \\\n",
       "0                3054.0                   723.0                 33000   \n",
       "1                1238.0                   302.0                     0   \n",
       "2                 994.0                   602.0                 85000   \n",
       "\n",
       "   director_facebook_likes actor_1_facebook_likes  actor_2_facebook_likes  \\\n",
       "0                      0.0                 1000.0                   936.0   \n",
       "1                    563.0                40000.0                  5000.0   \n",
       "2                      0.0                11000.0                   393.0   \n",
       "\n",
       "  actor_3_facebook_likes  cast_total_facebook_likes  \n",
       "0                  855.0                       4834  \n",
       "1                 1000.0                      48350  \n",
       "2                  161.0                      11700  \n",
       "\n",
       "[3 rows x 28 columns]"
      ]
     },
     "execution_count": 8,
     "metadata": {},
     "output_type": "execute_result"
    }
   ],
   "source": [
    "df_movies.head(3)"
   ]
  },
  {
   "cell_type": "code",
   "execution_count": 9,
   "metadata": {},
   "outputs": [
    {
     "data": {
      "text/html": [
       "<div>\n",
       "<style scoped>\n",
       "    .dataframe tbody tr th:only-of-type {\n",
       "        vertical-align: middle;\n",
       "    }\n",
       "\n",
       "    .dataframe tbody tr th {\n",
       "        vertical-align: top;\n",
       "    }\n",
       "\n",
       "    .dataframe thead th {\n",
       "        text-align: right;\n",
       "    }\n",
       "</style>\n",
       "<table border=\"1\" class=\"dataframe\">\n",
       "  <thead>\n",
       "    <tr style=\"text-align: right;\">\n",
       "      <th></th>\n",
       "      <th>movie_title</th>\n",
       "      <th>genres</th>\n",
       "      <th>director_name</th>\n",
       "      <th>actor_1_name</th>\n",
       "      <th>actor_2_name</th>\n",
       "      <th>actor_3_name</th>\n",
       "      <th>country</th>\n",
       "      <th>language</th>\n",
       "      <th>color</th>\n",
       "      <th>plot_keywords</th>\n",
       "      <th>...</th>\n",
       "      <th>content_rating</th>\n",
       "      <th>num_voted_users</th>\n",
       "      <th>num_user_for_reviews</th>\n",
       "      <th>num_critic_for_reviews</th>\n",
       "      <th>movie_facebook_likes</th>\n",
       "      <th>director_facebook_likes</th>\n",
       "      <th>actor_1_facebook_likes</th>\n",
       "      <th>actor_2_facebook_likes</th>\n",
       "      <th>actor_3_facebook_likes</th>\n",
       "      <th>cast_total_facebook_likes</th>\n",
       "    </tr>\n",
       "  </thead>\n",
       "  <tbody>\n",
       "    <tr>\n",
       "      <th>4305</th>\n",
       "      <td>Roadside Romeo</td>\n",
       "      <td>Animation|Comedy|Family|Romance</td>\n",
       "      <td>Jugal Hansraj</td>\n",
       "      <td>Saif Ali Khan</td>\n",
       "      <td>Sanjay Mishra</td>\n",
       "      <td>Javed Jaffrey</td>\n",
       "      <td>India</td>\n",
       "      <td>Hindi</td>\n",
       "      <td>Color</td>\n",
       "      <td>india|love|love at first sight|mumbai india|re...</td>\n",
       "      <td>...</td>\n",
       "      <td>PG</td>\n",
       "      <td>922</td>\n",
       "      <td>17.0</td>\n",
       "      <td>6.0</td>\n",
       "      <td>39</td>\n",
       "      <td>32.0</td>\n",
       "      <td>532.0</td>\n",
       "      <td>85.0</td>\n",
       "      <td>24.0</td>\n",
       "      <td>653</td>\n",
       "    </tr>\n",
       "    <tr>\n",
       "      <th>2152</th>\n",
       "      <td>Raiders of the Lost Ark</td>\n",
       "      <td>Action|Adventure</td>\n",
       "      <td>Steven Spielberg</td>\n",
       "      <td>Harrison Ford</td>\n",
       "      <td>Karen Allen</td>\n",
       "      <td>William Hootkins</td>\n",
       "      <td>USA</td>\n",
       "      <td>English</td>\n",
       "      <td>Color</td>\n",
       "      <td>archeological dig|archeologist|ark of the cove...</td>\n",
       "      <td>...</td>\n",
       "      <td>PG</td>\n",
       "      <td>661017</td>\n",
       "      <td>771.0</td>\n",
       "      <td>234.0</td>\n",
       "      <td>16000</td>\n",
       "      <td>14000.0</td>\n",
       "      <td>11000.0</td>\n",
       "      <td>783.0</td>\n",
       "      <td>488.0</td>\n",
       "      <td>12906</td>\n",
       "    </tr>\n",
       "    <tr>\n",
       "      <th>3858</th>\n",
       "      <td>Life During Wartime</td>\n",
       "      <td>Comedy|Drama</td>\n",
       "      <td>Todd Solondz</td>\n",
       "      <td>Rich Pecci</td>\n",
       "      <td>Shirley Henderson</td>\n",
       "      <td>Charlotte Rampling</td>\n",
       "      <td>USA</td>\n",
       "      <td>English</td>\n",
       "      <td>Color</td>\n",
       "      <td>forgiveness|ghost|new jersey|pedophile|three s...</td>\n",
       "      <td>...</td>\n",
       "      <td>R</td>\n",
       "      <td>5465</td>\n",
       "      <td>37.0</td>\n",
       "      <td>159.0</td>\n",
       "      <td>0</td>\n",
       "      <td>377.0</td>\n",
       "      <td>1000.0</td>\n",
       "      <td>887.0</td>\n",
       "      <td>844.0</td>\n",
       "      <td>5041</td>\n",
       "    </tr>\n",
       "    <tr>\n",
       "      <th>4695</th>\n",
       "      <td>House of Wax</td>\n",
       "      <td>Horror</td>\n",
       "      <td>Jaume Collet-Serra</td>\n",
       "      <td>Robert Ri'chard</td>\n",
       "      <td>Paris Hilton</td>\n",
       "      <td>Brian Van Holt</td>\n",
       "      <td>Australia</td>\n",
       "      <td>English</td>\n",
       "      <td>Color</td>\n",
       "      <td>brother sister relationship|group of friends|m...</td>\n",
       "      <td>...</td>\n",
       "      <td>R</td>\n",
       "      <td>94463</td>\n",
       "      <td>576.0</td>\n",
       "      <td>228.0</td>\n",
       "      <td>0</td>\n",
       "      <td>174.0</td>\n",
       "      <td>730.0</td>\n",
       "      <td>716.0</td>\n",
       "      <td>324.0</td>\n",
       "      <td>2160</td>\n",
       "    </tr>\n",
       "    <tr>\n",
       "      <th>4102</th>\n",
       "      <td>Happiness</td>\n",
       "      <td>Comedy|Drama</td>\n",
       "      <td>Todd Solondz</td>\n",
       "      <td>Philip Seymour Hoffman</td>\n",
       "      <td>Jon Lovitz</td>\n",
       "      <td>Dylan Baker</td>\n",
       "      <td>USA</td>\n",
       "      <td>English</td>\n",
       "      <td>Color</td>\n",
       "      <td>ensemble cast|episodic structure|satire|social...</td>\n",
       "      <td>...</td>\n",
       "      <td>NaN</td>\n",
       "      <td>55329</td>\n",
       "      <td>499.0</td>\n",
       "      <td>148.0</td>\n",
       "      <td>0</td>\n",
       "      <td>377.0</td>\n",
       "      <td>22000.0</td>\n",
       "      <td>11000.0</td>\n",
       "      <td>812.0</td>\n",
       "      <td>36859</td>\n",
       "    </tr>\n",
       "  </tbody>\n",
       "</table>\n",
       "<p>5 rows × 28 columns</p>\n",
       "</div>"
      ],
      "text/plain": [
       "                   movie_title                           genres  \\\n",
       "4305           Roadside Romeo   Animation|Comedy|Family|Romance   \n",
       "2152  Raiders of the Lost Ark                  Action|Adventure   \n",
       "3858      Life During Wartime                      Comedy|Drama   \n",
       "4695             House of Wax                            Horror   \n",
       "4102                Happiness                      Comedy|Drama   \n",
       "\n",
       "           director_name            actor_1_name       actor_2_name  \\\n",
       "4305       Jugal Hansraj           Saif Ali Khan      Sanjay Mishra   \n",
       "2152    Steven Spielberg           Harrison Ford        Karen Allen   \n",
       "3858        Todd Solondz              Rich Pecci  Shirley Henderson   \n",
       "4695  Jaume Collet-Serra         Robert Ri'chard       Paris Hilton   \n",
       "4102        Todd Solondz  Philip Seymour Hoffman         Jon Lovitz   \n",
       "\n",
       "            actor_3_name    country language  color  \\\n",
       "4305       Javed Jaffrey      India    Hindi  Color   \n",
       "2152    William Hootkins        USA  English  Color   \n",
       "3858  Charlotte Rampling        USA  English  Color   \n",
       "4695      Brian Van Holt  Australia  English  Color   \n",
       "4102         Dylan Baker        USA  English  Color   \n",
       "\n",
       "                                          plot_keywords  \\\n",
       "4305  india|love|love at first sight|mumbai india|re...   \n",
       "2152  archeological dig|archeologist|ark of the cove...   \n",
       "3858  forgiveness|ghost|new jersey|pedophile|three s...   \n",
       "4695  brother sister relationship|group of friends|m...   \n",
       "4102  ensemble cast|episodic structure|satire|social...   \n",
       "\n",
       "                ...              content_rating  num_voted_users  \\\n",
       "4305            ...                          PG              922   \n",
       "2152            ...                          PG           661017   \n",
       "3858            ...                           R             5465   \n",
       "4695            ...                           R            94463   \n",
       "4102            ...                         NaN            55329   \n",
       "\n",
       "      num_user_for_reviews  num_critic_for_reviews  movie_facebook_likes  \\\n",
       "4305                  17.0                     6.0                    39   \n",
       "2152                 771.0                   234.0                 16000   \n",
       "3858                  37.0                   159.0                     0   \n",
       "4695                 576.0                   228.0                     0   \n",
       "4102                 499.0                   148.0                     0   \n",
       "\n",
       "      director_facebook_likes actor_1_facebook_likes  actor_2_facebook_likes  \\\n",
       "4305                     32.0                  532.0                    85.0   \n",
       "2152                  14000.0                11000.0                   783.0   \n",
       "3858                    377.0                 1000.0                   887.0   \n",
       "4695                    174.0                  730.0                   716.0   \n",
       "4102                    377.0                22000.0                 11000.0   \n",
       "\n",
       "     actor_3_facebook_likes  cast_total_facebook_likes  \n",
       "4305                   24.0                        653  \n",
       "2152                  488.0                      12906  \n",
       "3858                  844.0                       5041  \n",
       "4695                  324.0                       2160  \n",
       "4102                  812.0                      36859  \n",
       "\n",
       "[5 rows x 28 columns]"
      ]
     },
     "execution_count": 9,
     "metadata": {},
     "output_type": "execute_result"
    }
   ],
   "source": [
    "df_movies.sample(5)"
   ]
  },
  {
   "cell_type": "markdown",
   "metadata": {},
   "source": [
    "### Missing Values"
   ]
  },
  {
   "cell_type": "code",
   "execution_count": 10,
   "metadata": {},
   "outputs": [
    {
     "data": {
      "text/plain": [
       "movie_title                    0\n",
       "genres                         0\n",
       "director_name                104\n",
       "actor_1_name                   7\n",
       "actor_2_name                  13\n",
       "actor_3_name                  23\n",
       "country                        5\n",
       "language                      12\n",
       "color                         19\n",
       "plot_keywords                153\n",
       "title_year                   108\n",
       "facenumber_in_poster          13\n",
       "budget                       492\n",
       "gross                        884\n",
       "duration                      15\n",
       "aspect_ratio                 329\n",
       "movie_imdb_link                0\n",
       "imdb_score                     0\n",
       "content_rating               303\n",
       "num_voted_users                0\n",
       "num_user_for_reviews          21\n",
       "num_critic_for_reviews        50\n",
       "movie_facebook_likes           0\n",
       "director_facebook_likes      104\n",
       "actor_1_facebook_likes         7\n",
       "actor_2_facebook_likes        13\n",
       "actor_3_facebook_likes        23\n",
       "cast_total_facebook_likes      0\n",
       "dtype: int64"
      ]
     },
     "execution_count": 10,
     "metadata": {},
     "output_type": "execute_result"
    }
   ],
   "source": [
    "df_movies.isnull().sum()"
   ]
  },
  {
   "cell_type": "code",
   "execution_count": 11,
   "metadata": {},
   "outputs": [
    {
     "data": {
      "text/plain": [
       "gross                        17.529248\n",
       "budget                        9.756098\n",
       "aspect_ratio                  6.523895\n",
       "content_rating                6.008328\n",
       "plot_keywords                 3.033908\n",
       "title_year                    2.141582\n",
       "director_facebook_likes       2.062265\n",
       "director_name                 2.062265\n",
       "num_critic_for_reviews        0.991473\n",
       "actor_3_name                  0.456078\n",
       "actor_3_facebook_likes        0.456078\n",
       "num_user_for_reviews          0.416419\n",
       "color                         0.376760\n",
       "duration                      0.297442\n",
       "facenumber_in_poster          0.257783\n",
       "actor_2_name                  0.257783\n",
       "actor_2_facebook_likes        0.257783\n",
       "language                      0.237954\n",
       "actor_1_name                  0.138806\n",
       "actor_1_facebook_likes        0.138806\n",
       "country                       0.099147\n",
       "genres                        0.000000\n",
       "cast_total_facebook_likes     0.000000\n",
       "movie_imdb_link               0.000000\n",
       "imdb_score                    0.000000\n",
       "num_voted_users               0.000000\n",
       "movie_facebook_likes          0.000000\n",
       "movie_title                   0.000000\n",
       "dtype: float64"
      ]
     },
     "execution_count": 11,
     "metadata": {},
     "output_type": "execute_result"
    }
   ],
   "source": [
    "# Percentage of missing values for different columns in descending order\n",
    "(df_movies.isnull().sum().sort_values(ascending=False)/df_movies.shape[0])*100"
   ]
  },
  {
   "cell_type": "markdown",
   "metadata": {},
   "source": [
    "### Duplicates "
   ]
  },
  {
   "cell_type": "code",
   "execution_count": 12,
   "metadata": {},
   "outputs": [
    {
     "data": {
      "text/plain": [
       "123"
      ]
     },
     "execution_count": 12,
     "metadata": {},
     "output_type": "execute_result"
    }
   ],
   "source": [
    "df_movies.duplicated(subset=['movie_title','director_name','actor_1_name','title_year','country',\\\n",
    "                             'language','imdb_score']).sum()"
   ]
  },
  {
   "cell_type": "code",
   "execution_count": 13,
   "metadata": {},
   "outputs": [
    {
     "data": {
      "text/html": [
       "<div>\n",
       "<style scoped>\n",
       "    .dataframe tbody tr th:only-of-type {\n",
       "        vertical-align: middle;\n",
       "    }\n",
       "\n",
       "    .dataframe tbody tr th {\n",
       "        vertical-align: top;\n",
       "    }\n",
       "\n",
       "    .dataframe thead th {\n",
       "        text-align: right;\n",
       "    }\n",
       "</style>\n",
       "<table border=\"1\" class=\"dataframe\">\n",
       "  <thead>\n",
       "    <tr style=\"text-align: right;\">\n",
       "      <th></th>\n",
       "      <th>movie_title</th>\n",
       "      <th>genres</th>\n",
       "      <th>director_name</th>\n",
       "      <th>actor_1_name</th>\n",
       "      <th>actor_2_name</th>\n",
       "      <th>actor_3_name</th>\n",
       "      <th>country</th>\n",
       "      <th>language</th>\n",
       "      <th>color</th>\n",
       "      <th>plot_keywords</th>\n",
       "      <th>...</th>\n",
       "      <th>content_rating</th>\n",
       "      <th>num_voted_users</th>\n",
       "      <th>num_user_for_reviews</th>\n",
       "      <th>num_critic_for_reviews</th>\n",
       "      <th>movie_facebook_likes</th>\n",
       "      <th>director_facebook_likes</th>\n",
       "      <th>actor_1_facebook_likes</th>\n",
       "      <th>actor_2_facebook_likes</th>\n",
       "      <th>actor_3_facebook_likes</th>\n",
       "      <th>cast_total_facebook_likes</th>\n",
       "    </tr>\n",
       "  </thead>\n",
       "  <tbody>\n",
       "    <tr>\n",
       "      <th>137</th>\n",
       "      <td>The Legend of Tarzan</td>\n",
       "      <td>Action|Adventure|Drama|Romance</td>\n",
       "      <td>David Yates</td>\n",
       "      <td>Christoph Waltz</td>\n",
       "      <td>Alexander Skarsgård</td>\n",
       "      <td>Casper Crump</td>\n",
       "      <td>USA</td>\n",
       "      <td>English</td>\n",
       "      <td>Color</td>\n",
       "      <td>africa|capture|jungle|male objectification|tarzan</td>\n",
       "      <td>...</td>\n",
       "      <td>PG-13</td>\n",
       "      <td>42372</td>\n",
       "      <td>239.0</td>\n",
       "      <td>248.0</td>\n",
       "      <td>29000</td>\n",
       "      <td>282.0</td>\n",
       "      <td>11000.0</td>\n",
       "      <td>10000.0</td>\n",
       "      <td>103.0</td>\n",
       "      <td>21175</td>\n",
       "    </tr>\n",
       "    <tr>\n",
       "      <th>187</th>\n",
       "      <td>The Twilight Saga: Breaking Dawn - Part 2</td>\n",
       "      <td>Adventure|Drama|Fantasy|Romance</td>\n",
       "      <td>Bill Condon</td>\n",
       "      <td>Robert Pattinson</td>\n",
       "      <td>Kristen Stewart</td>\n",
       "      <td>Taylor Lautner</td>\n",
       "      <td>USA</td>\n",
       "      <td>English</td>\n",
       "      <td>Color</td>\n",
       "      <td>battle|friend|super strength|vampire|vision</td>\n",
       "      <td>...</td>\n",
       "      <td>PG-13</td>\n",
       "      <td>185394</td>\n",
       "      <td>329.0</td>\n",
       "      <td>322.0</td>\n",
       "      <td>65000</td>\n",
       "      <td>386.0</td>\n",
       "      <td>21000.0</td>\n",
       "      <td>17000.0</td>\n",
       "      <td>12000.0</td>\n",
       "      <td>59177</td>\n",
       "    </tr>\n",
       "    <tr>\n",
       "      <th>204</th>\n",
       "      <td>Godzilla Resurgence</td>\n",
       "      <td>Action|Adventure|Drama|Horror|Sci-Fi</td>\n",
       "      <td>Hideaki Anno</td>\n",
       "      <td>Mark Chinnery</td>\n",
       "      <td>Shin'ya Tsukamoto</td>\n",
       "      <td>Atsuko Maeda</td>\n",
       "      <td>Japan</td>\n",
       "      <td>Japanese</td>\n",
       "      <td>Color</td>\n",
       "      <td>blood|godzilla|monster|sequel</td>\n",
       "      <td>...</td>\n",
       "      <td>NaN</td>\n",
       "      <td>374</td>\n",
       "      <td>13.0</td>\n",
       "      <td>1.0</td>\n",
       "      <td>0</td>\n",
       "      <td>28.0</td>\n",
       "      <td>544.0</td>\n",
       "      <td>106.0</td>\n",
       "      <td>12.0</td>\n",
       "      <td>699</td>\n",
       "    </tr>\n",
       "    <tr>\n",
       "      <th>303</th>\n",
       "      <td>Pan</td>\n",
       "      <td>Adventure|Family|Fantasy</td>\n",
       "      <td>Joe Wright</td>\n",
       "      <td>Hugh Jackman</td>\n",
       "      <td>Cara Delevingne</td>\n",
       "      <td>Nonso Anozie</td>\n",
       "      <td>USA</td>\n",
       "      <td>English</td>\n",
       "      <td>Color</td>\n",
       "      <td>1940s|child hero|fantasy world|orphan|referenc...</td>\n",
       "      <td>...</td>\n",
       "      <td>PG</td>\n",
       "      <td>39956</td>\n",
       "      <td>186.0</td>\n",
       "      <td>256.0</td>\n",
       "      <td>24000</td>\n",
       "      <td>456.0</td>\n",
       "      <td>20000.0</td>\n",
       "      <td>548.0</td>\n",
       "      <td>394.0</td>\n",
       "      <td>21393</td>\n",
       "    </tr>\n",
       "    <tr>\n",
       "      <th>389</th>\n",
       "      <td>Fantastic Four</td>\n",
       "      <td>Action|Adventure|Sci-Fi</td>\n",
       "      <td>Josh Trank</td>\n",
       "      <td>Tim Blake Nelson</td>\n",
       "      <td>Reg E. Cathey</td>\n",
       "      <td>Tim Heidecker</td>\n",
       "      <td>USA</td>\n",
       "      <td>English</td>\n",
       "      <td>Color</td>\n",
       "      <td>box office flop|critically bashed|portal|telep...</td>\n",
       "      <td>...</td>\n",
       "      <td>PG-13</td>\n",
       "      <td>110486</td>\n",
       "      <td>695.0</td>\n",
       "      <td>369.0</td>\n",
       "      <td>41000</td>\n",
       "      <td>128.0</td>\n",
       "      <td>596.0</td>\n",
       "      <td>360.0</td>\n",
       "      <td>78.0</td>\n",
       "      <td>1261</td>\n",
       "    </tr>\n",
       "  </tbody>\n",
       "</table>\n",
       "<p>5 rows × 28 columns</p>\n",
       "</div>"
      ],
      "text/plain": [
       "                                    movie_title  \\\n",
       "137                       The Legend of Tarzan    \n",
       "187  The Twilight Saga: Breaking Dawn - Part 2    \n",
       "204                        Godzilla Resurgence    \n",
       "303                                        Pan    \n",
       "389                             Fantastic Four    \n",
       "\n",
       "                                   genres director_name      actor_1_name  \\\n",
       "137        Action|Adventure|Drama|Romance   David Yates   Christoph Waltz   \n",
       "187       Adventure|Drama|Fantasy|Romance   Bill Condon  Robert Pattinson   \n",
       "204  Action|Adventure|Drama|Horror|Sci-Fi  Hideaki Anno     Mark Chinnery   \n",
       "303              Adventure|Family|Fantasy    Joe Wright      Hugh Jackman   \n",
       "389               Action|Adventure|Sci-Fi    Josh Trank  Tim Blake Nelson   \n",
       "\n",
       "            actor_2_name    actor_3_name country  language  color  \\\n",
       "137  Alexander Skarsgård    Casper Crump     USA   English  Color   \n",
       "187      Kristen Stewart  Taylor Lautner     USA   English  Color   \n",
       "204    Shin'ya Tsukamoto    Atsuko Maeda   Japan  Japanese  Color   \n",
       "303      Cara Delevingne    Nonso Anozie     USA   English  Color   \n",
       "389        Reg E. Cathey   Tim Heidecker     USA   English  Color   \n",
       "\n",
       "                                         plot_keywords  \\\n",
       "137  africa|capture|jungle|male objectification|tarzan   \n",
       "187        battle|friend|super strength|vampire|vision   \n",
       "204                      blood|godzilla|monster|sequel   \n",
       "303  1940s|child hero|fantasy world|orphan|referenc...   \n",
       "389  box office flop|critically bashed|portal|telep...   \n",
       "\n",
       "               ...              content_rating  num_voted_users  \\\n",
       "137            ...                       PG-13            42372   \n",
       "187            ...                       PG-13           185394   \n",
       "204            ...                         NaN              374   \n",
       "303            ...                          PG            39956   \n",
       "389            ...                       PG-13           110486   \n",
       "\n",
       "     num_user_for_reviews  num_critic_for_reviews  movie_facebook_likes  \\\n",
       "137                 239.0                   248.0                 29000   \n",
       "187                 329.0                   322.0                 65000   \n",
       "204                  13.0                     1.0                     0   \n",
       "303                 186.0                   256.0                 24000   \n",
       "389                 695.0                   369.0                 41000   \n",
       "\n",
       "     director_facebook_likes actor_1_facebook_likes  actor_2_facebook_likes  \\\n",
       "137                    282.0                11000.0                 10000.0   \n",
       "187                    386.0                21000.0                 17000.0   \n",
       "204                     28.0                  544.0                   106.0   \n",
       "303                    456.0                20000.0                   548.0   \n",
       "389                    128.0                  596.0                   360.0   \n",
       "\n",
       "    actor_3_facebook_likes  cast_total_facebook_likes  \n",
       "137                  103.0                      21175  \n",
       "187                12000.0                      59177  \n",
       "204                   12.0                        699  \n",
       "303                  394.0                      21393  \n",
       "389                   78.0                       1261  \n",
       "\n",
       "[5 rows x 28 columns]"
      ]
     },
     "execution_count": 13,
     "metadata": {},
     "output_type": "execute_result"
    }
   ],
   "source": [
    "df_movies[df_movies.duplicated(subset=['movie_title','director_name','actor_1_name','title_year',\\\n",
    "                                       'country','language','imdb_score'])].head(5)"
   ]
  },
  {
   "cell_type": "code",
   "execution_count": 14,
   "metadata": {},
   "outputs": [
    {
     "data": {
      "text/html": [
       "<div>\n",
       "<style scoped>\n",
       "    .dataframe tbody tr th:only-of-type {\n",
       "        vertical-align: middle;\n",
       "    }\n",
       "\n",
       "    .dataframe tbody tr th {\n",
       "        vertical-align: top;\n",
       "    }\n",
       "\n",
       "    .dataframe thead th {\n",
       "        text-align: right;\n",
       "    }\n",
       "</style>\n",
       "<table border=\"1\" class=\"dataframe\">\n",
       "  <thead>\n",
       "    <tr style=\"text-align: right;\">\n",
       "      <th></th>\n",
       "      <th>movie_title</th>\n",
       "      <th>genres</th>\n",
       "      <th>director_name</th>\n",
       "      <th>actor_1_name</th>\n",
       "      <th>actor_2_name</th>\n",
       "      <th>actor_3_name</th>\n",
       "      <th>country</th>\n",
       "      <th>language</th>\n",
       "      <th>color</th>\n",
       "      <th>plot_keywords</th>\n",
       "      <th>...</th>\n",
       "      <th>content_rating</th>\n",
       "      <th>num_voted_users</th>\n",
       "      <th>num_user_for_reviews</th>\n",
       "      <th>num_critic_for_reviews</th>\n",
       "      <th>movie_facebook_likes</th>\n",
       "      <th>director_facebook_likes</th>\n",
       "      <th>actor_1_facebook_likes</th>\n",
       "      <th>actor_2_facebook_likes</th>\n",
       "      <th>actor_3_facebook_likes</th>\n",
       "      <th>cast_total_facebook_likes</th>\n",
       "    </tr>\n",
       "  </thead>\n",
       "  <tbody>\n",
       "    <tr>\n",
       "      <th>63</th>\n",
       "      <td>The Legend of Tarzan</td>\n",
       "      <td>Action|Adventure|Drama|Romance</td>\n",
       "      <td>David Yates</td>\n",
       "      <td>Christoph Waltz</td>\n",
       "      <td>Alexander Skarsgård</td>\n",
       "      <td>Casper Crump</td>\n",
       "      <td>USA</td>\n",
       "      <td>English</td>\n",
       "      <td>Color</td>\n",
       "      <td>africa|capture|jungle|male objectification|tarzan</td>\n",
       "      <td>...</td>\n",
       "      <td>PG-13</td>\n",
       "      <td>42372</td>\n",
       "      <td>239.0</td>\n",
       "      <td>248.0</td>\n",
       "      <td>29000</td>\n",
       "      <td>282.0</td>\n",
       "      <td>11000.0</td>\n",
       "      <td>10000.0</td>\n",
       "      <td>103.0</td>\n",
       "      <td>21175</td>\n",
       "    </tr>\n",
       "    <tr>\n",
       "      <th>137</th>\n",
       "      <td>The Legend of Tarzan</td>\n",
       "      <td>Action|Adventure|Drama|Romance</td>\n",
       "      <td>David Yates</td>\n",
       "      <td>Christoph Waltz</td>\n",
       "      <td>Alexander Skarsgård</td>\n",
       "      <td>Casper Crump</td>\n",
       "      <td>USA</td>\n",
       "      <td>English</td>\n",
       "      <td>Color</td>\n",
       "      <td>africa|capture|jungle|male objectification|tarzan</td>\n",
       "      <td>...</td>\n",
       "      <td>PG-13</td>\n",
       "      <td>42372</td>\n",
       "      <td>239.0</td>\n",
       "      <td>248.0</td>\n",
       "      <td>29000</td>\n",
       "      <td>282.0</td>\n",
       "      <td>11000.0</td>\n",
       "      <td>10000.0</td>\n",
       "      <td>103.0</td>\n",
       "      <td>21175</td>\n",
       "    </tr>\n",
       "  </tbody>\n",
       "</table>\n",
       "<p>2 rows × 28 columns</p>\n",
       "</div>"
      ],
      "text/plain": [
       "               movie_title                          genres director_name  \\\n",
       "63   The Legend of Tarzan   Action|Adventure|Drama|Romance   David Yates   \n",
       "137  The Legend of Tarzan   Action|Adventure|Drama|Romance   David Yates   \n",
       "\n",
       "        actor_1_name         actor_2_name  actor_3_name country language  \\\n",
       "63   Christoph Waltz  Alexander Skarsgård  Casper Crump     USA  English   \n",
       "137  Christoph Waltz  Alexander Skarsgård  Casper Crump     USA  English   \n",
       "\n",
       "     color                                      plot_keywords  \\\n",
       "63   Color  africa|capture|jungle|male objectification|tarzan   \n",
       "137  Color  africa|capture|jungle|male objectification|tarzan   \n",
       "\n",
       "               ...              content_rating  num_voted_users  \\\n",
       "63             ...                       PG-13            42372   \n",
       "137            ...                       PG-13            42372   \n",
       "\n",
       "     num_user_for_reviews  num_critic_for_reviews  movie_facebook_likes  \\\n",
       "63                  239.0                   248.0                 29000   \n",
       "137                 239.0                   248.0                 29000   \n",
       "\n",
       "     director_facebook_likes actor_1_facebook_likes  actor_2_facebook_likes  \\\n",
       "63                     282.0                11000.0                 10000.0   \n",
       "137                    282.0                11000.0                 10000.0   \n",
       "\n",
       "    actor_3_facebook_likes  cast_total_facebook_likes  \n",
       "63                   103.0                      21175  \n",
       "137                  103.0                      21175  \n",
       "\n",
       "[2 rows x 28 columns]"
      ]
     },
     "execution_count": 14,
     "metadata": {},
     "output_type": "execute_result"
    }
   ],
   "source": [
    "# Quick check on 2 duplicates\n",
    "df_movies.query('director_name==\"David Yates\" and duration == 110.0')"
   ]
  },
  {
   "cell_type": "markdown",
   "metadata": {},
   "source": [
    "#### Comments:\n",
    "> - **Duplicate values** : there are 123 duplicated lines \n",
    "> - **Missing values** :\n",
    ">   * \"gross\" and \"budget\" have the biggest amount of missing values, but as we would like to use them to compute the revenue, and in this case it wouldn't give good results to replace the missing values by some computed value, we'll delete the associated rows. **Once those deleted, we'll reavuluate the amount of missing values for the other columns**\n",
    ">   * \"aspect_ratio\", as we won't include it in our study, we'll delete this column\n",
    ">   * \"plot_keywords\", missing values will be replaced by \" \".\n",
    "\n",
    "> - **Types of the columns**:\n",
    ">    * Several columns are in float instead of int format (num_critic_for_reviews,num_user_for_reviews, director_facebook_likes,actor_1_facebook_likes, actor_2_facebook_likes, actor_3_facebook_likes, budget, gross,title_year)\n",
    "> - **Adding Column**\n",
    ">   * adding column \"revenue\" = \"budget\"-\"gross\"\n",
    "> - **Column content**\n",
    ">   *'plot_keywords' and 'genre'"
   ]
  },
  {
   "cell_type": "markdown",
   "metadata": {},
   "source": [
    "<a id='cleaning'></a>\n",
    "## Cleaning\n",
    "\n",
    "<a href=\"#table\">Table of Content</a>"
   ]
  },
  {
   "cell_type": "markdown",
   "metadata": {},
   "source": [
    "### Starting by making a copy of dataset"
   ]
  },
  {
   "cell_type": "code",
   "execution_count": 15,
   "metadata": {},
   "outputs": [],
   "source": [
    "df_movies_clean = df_movies.copy()"
   ]
  },
  {
   "cell_type": "markdown",
   "metadata": {},
   "source": [
    "#### 1. Remove duplicates"
   ]
  },
  {
   "cell_type": "markdown",
   "metadata": {},
   "source": [
    "##### Define"
   ]
  },
  {
   "cell_type": "markdown",
   "metadata": {},
   "source": [
    "Removing the 123 duplicated rows detected during the assessing"
   ]
  },
  {
   "cell_type": "markdown",
   "metadata": {},
   "source": [
    "##### Code"
   ]
  },
  {
   "cell_type": "code",
   "execution_count": 16,
   "metadata": {},
   "outputs": [],
   "source": [
    "df_movies_clean.drop_duplicates(subset=['movie_title','director_name','actor_1_name','title_year','country',\\\n",
    "                             'language','imdb_score'],inplace=True)"
   ]
  },
  {
   "cell_type": "markdown",
   "metadata": {},
   "source": [
    "##### Test"
   ]
  },
  {
   "cell_type": "code",
   "execution_count": 17,
   "metadata": {},
   "outputs": [
    {
     "data": {
      "text/plain": [
       "0"
      ]
     },
     "execution_count": 17,
     "metadata": {},
     "output_type": "execute_result"
    }
   ],
   "source": [
    "df_movies_clean.duplicated(subset=['movie_title','director_name','actor_1_name','title_year','country',\\\n",
    "                             'language','imdb_score']).sum()"
   ]
  },
  {
   "cell_type": "markdown",
   "metadata": {},
   "source": [
    "#### 2. Handling missing valvues for \"gross\" and \"budget\""
   ]
  },
  {
   "cell_type": "markdown",
   "metadata": {},
   "source": [
    "##### Define"
   ]
  },
  {
   "cell_type": "markdown",
   "metadata": {},
   "source": [
    "Even as the amount of missing values are high, we would like to use those figures further in the exploration. So we can't simply replace them by 0 or other types of values (mean, median). That's why we decide to delete the rows linked to those missing values."
   ]
  },
  {
   "cell_type": "markdown",
   "metadata": {},
   "source": [
    "##### Code"
   ]
  },
  {
   "cell_type": "code",
   "execution_count": 18,
   "metadata": {},
   "outputs": [],
   "source": [
    "# Drop the rows with na values\n",
    "df_movies_clean = df_movies_clean.dropna(subset=['gross','budget'])"
   ]
  },
  {
   "cell_type": "markdown",
   "metadata": {},
   "source": [
    "##### Test"
   ]
  },
  {
   "cell_type": "code",
   "execution_count": 19,
   "metadata": {},
   "outputs": [
    {
     "data": {
      "text/plain": [
       "aspect_ratio                 1.952507\n",
       "content_rating               1.345646\n",
       "plot_keywords                0.817942\n",
       "actor_3_facebook_likes       0.263852\n",
       "actor_3_name                 0.263852\n",
       "facenumber_in_poster         0.158311\n",
       "actor_2_facebook_likes       0.131926\n",
       "actor_2_name                 0.131926\n",
       "actor_1_facebook_likes       0.079156\n",
       "language                     0.079156\n",
       "actor_1_name                 0.079156\n",
       "color                        0.052770\n",
       "duration                     0.026385\n",
       "num_critic_for_reviews       0.026385\n",
       "country                      0.000000\n",
       "director_name                0.000000\n",
       "genres                       0.000000\n",
       "cast_total_facebook_likes    0.000000\n",
       "gross                        0.000000\n",
       "title_year                   0.000000\n",
       "budget                       0.000000\n",
       "movie_imdb_link              0.000000\n",
       "imdb_score                   0.000000\n",
       "num_voted_users              0.000000\n",
       "num_user_for_reviews         0.000000\n",
       "movie_facebook_likes         0.000000\n",
       "director_facebook_likes      0.000000\n",
       "movie_title                  0.000000\n",
       "dtype: float64"
      ]
     },
     "execution_count": 19,
     "metadata": {},
     "output_type": "execute_result"
    }
   ],
   "source": [
    "(df_movies_clean.isnull().sum().sort_values(ascending=False)/df_movies_clean.shape[0])*100"
   ]
  },
  {
   "cell_type": "markdown",
   "metadata": {},
   "source": [
    "#### 3. Handling missing values for \"aspect_ratio\" and \"facenumber_in_poster\""
   ]
  },
  {
   "cell_type": "markdown",
   "metadata": {},
   "source": [
    "##### Define"
   ]
  },
  {
   "cell_type": "markdown",
   "metadata": {},
   "source": [
    "As we won't use those 2 variables in further exploration, as they seem less relevant, we'll drop the columns."
   ]
  },
  {
   "cell_type": "markdown",
   "metadata": {},
   "source": [
    "##### Code"
   ]
  },
  {
   "cell_type": "code",
   "execution_count": 20,
   "metadata": {},
   "outputs": [],
   "source": [
    "df_movies_clean = df_movies_clean.drop(['aspect_ratio','facenumber_in_poster'],axis=1)"
   ]
  },
  {
   "cell_type": "markdown",
   "metadata": {},
   "source": [
    "##### Test"
   ]
  },
  {
   "cell_type": "code",
   "execution_count": 21,
   "metadata": {},
   "outputs": [
    {
     "data": {
      "text/plain": [
       "(3790, 26)"
      ]
     },
     "execution_count": 21,
     "metadata": {},
     "output_type": "execute_result"
    }
   ],
   "source": [
    "df_movies_clean.shape"
   ]
  },
  {
   "cell_type": "code",
   "execution_count": 22,
   "metadata": {},
   "outputs": [
    {
     "name": "stdout",
     "output_type": "stream",
     "text": [
      "['movie_title', 'genres', 'director_name', 'actor_1_name', 'actor_2_name', 'actor_3_name', 'country', 'language', 'color', 'plot_keywords', 'title_year', 'budget', 'gross', 'duration', 'movie_imdb_link', 'imdb_score', 'content_rating', 'num_voted_users', 'num_user_for_reviews', 'num_critic_for_reviews', 'movie_facebook_likes', 'director_facebook_likes', 'actor_1_facebook_likes', 'actor_2_facebook_likes', 'actor_3_facebook_likes', 'cast_total_facebook_likes']\n"
     ]
    }
   ],
   "source": [
    "print(df_movies_clean.columns.values.tolist())"
   ]
  },
  {
   "cell_type": "markdown",
   "metadata": {},
   "source": [
    "#### 4. Handling missing values for other columns"
   ]
  },
  {
   "cell_type": "markdown",
   "metadata": {},
   "source": [
    "##### Define"
   ]
  },
  {
   "cell_type": "markdown",
   "metadata": {},
   "source": [
    "As the amount of missing values 'duration', 'num_critic_for_reviews', 'color', 'language', 'actor_1_name', 'actor_1_facebook_likes' are really small, we'll delete the associated rows"
   ]
  },
  {
   "cell_type": "markdown",
   "metadata": {},
   "source": [
    "##### Code"
   ]
  },
  {
   "cell_type": "code",
   "execution_count": 23,
   "metadata": {},
   "outputs": [],
   "source": [
    "# Drop the rows with na values\n",
    "df_movies_clean = df_movies_clean.dropna(subset=['duration', 'num_critic_for_reviews', 'color', \n",
    "                                                 'language', 'actor_1_name', 'actor_1_facebook_likes'])"
   ]
  },
  {
   "cell_type": "markdown",
   "metadata": {},
   "source": [
    "##### Test"
   ]
  },
  {
   "cell_type": "code",
   "execution_count": 24,
   "metadata": {},
   "outputs": [
    {
     "data": {
      "text/plain": [
       "duration                  0\n",
       "num_critic_for_reviews    0\n",
       "color                     0\n",
       "language                  0\n",
       "actor_1_name              0\n",
       "actor_1_facebook_likes    0\n",
       "dtype: int64"
      ]
     },
     "execution_count": 24,
     "metadata": {},
     "output_type": "execute_result"
    }
   ],
   "source": [
    "df_movies_clean[['duration', 'num_critic_for_reviews', 'color', 'language', 'actor_1_name', \n",
    "                 'actor_1_facebook_likes']].isnull().sum()"
   ]
  },
  {
   "cell_type": "markdown",
   "metadata": {},
   "source": [
    "#### 5. Handling the rest of the missing values"
   ]
  },
  {
   "cell_type": "markdown",
   "metadata": {},
   "source": [
    "##### Define"
   ]
  },
  {
   "cell_type": "markdown",
   "metadata": {},
   "source": [
    "- For 'content_rating', 'plot_keywords', 'actor_2_name', 'actor_3_name' , we'll replace the missing values by \" \"\n",
    "\n",
    "- For 'actor_2_facebook_likes' and 'actor_3_facebook_likes' the missing values will be replaced by 0."
   ]
  },
  {
   "cell_type": "markdown",
   "metadata": {},
   "source": [
    "##### Code"
   ]
  },
  {
   "cell_type": "code",
   "execution_count": 25,
   "metadata": {},
   "outputs": [],
   "source": [
    "df_movies_clean[['content_rating', 'plot_keywords', 'actor_2_name', 'actor_3_name']] =\\\n",
    "            df_movies_clean[['content_rating', 'plot_keywords', 'actor_2_name', 'actor_3_name']].fillna(value=\" \")"
   ]
  },
  {
   "cell_type": "code",
   "execution_count": 26,
   "metadata": {},
   "outputs": [],
   "source": [
    "df_movies_clean[['actor_2_facebook_likes','actor_3_facebook_likes']] = df_movies_clean[['actor_2_facebook_likes','actor_3_facebook_likes']].fillna(value=0)"
   ]
  },
  {
   "cell_type": "markdown",
   "metadata": {},
   "source": [
    "##### Test"
   ]
  },
  {
   "cell_type": "code",
   "execution_count": 27,
   "metadata": {},
   "outputs": [
    {
     "data": {
      "text/plain": [
       "content_rating    0\n",
       "plot_keywords     0\n",
       "actor_2_name      0\n",
       "actor_3_name      0\n",
       "dtype: int64"
      ]
     },
     "execution_count": 27,
     "metadata": {},
     "output_type": "execute_result"
    }
   ],
   "source": [
    "df_movies_clean[['content_rating', 'plot_keywords', 'actor_2_name', 'actor_3_name']].isnull().sum()"
   ]
  },
  {
   "cell_type": "code",
   "execution_count": 28,
   "metadata": {},
   "outputs": [
    {
     "data": {
      "text/plain": [
       "actor_2_facebook_likes    0\n",
       "actor_3_facebook_likes    0\n",
       "dtype: int64"
      ]
     },
     "execution_count": 28,
     "metadata": {},
     "output_type": "execute_result"
    }
   ],
   "source": [
    "df_movies_clean[['actor_2_facebook_likes','actor_3_facebook_likes']].isnull().sum()"
   ]
  },
  {
   "cell_type": "markdown",
   "metadata": {},
   "source": [
    "#### 6. Converting datatypes (float to int)"
   ]
  },
  {
   "cell_type": "markdown",
   "metadata": {},
   "source": [
    "##### Define"
   ]
  },
  {
   "cell_type": "markdown",
   "metadata": {},
   "source": [
    "Following columns will be changed from float datatype to int datatype:\n",
    "'num_critic_for_reviews','num_user_for_reviews', 'director_facebook_likes','actor_1_facebook_likes', 'actor_2_facebook_likes', 'actor_3_facebook_likes', 'budget', 'gross','title_year'"
   ]
  },
  {
   "cell_type": "markdown",
   "metadata": {},
   "source": [
    "##### Code"
   ]
  },
  {
   "cell_type": "code",
   "execution_count": 29,
   "metadata": {},
   "outputs": [],
   "source": [
    "df_movies_clean[['num_critic_for_reviews','num_user_for_reviews', 'director_facebook_likes','actor_1_facebook_likes',\n",
    "                 'actor_2_facebook_likes', 'actor_3_facebook_likes', 'budget', 'gross','title_year']]=\\\n",
    "               df_movies_clean[['num_critic_for_reviews','num_user_for_reviews', 'director_facebook_likes','actor_1_facebook_likes',\n",
    "                 'actor_2_facebook_likes', 'actor_3_facebook_likes', 'budget', 'gross','title_year']].astype('int')"
   ]
  },
  {
   "cell_type": "markdown",
   "metadata": {},
   "source": [
    "##### Test"
   ]
  },
  {
   "cell_type": "code",
   "execution_count": 30,
   "metadata": {},
   "outputs": [
    {
     "name": "stdout",
     "output_type": "stream",
     "text": [
      "<class 'pandas.core.frame.DataFrame'>\n",
      "Int64Index: 3780 entries, 0 to 5042\n",
      "Data columns (total 9 columns):\n",
      "num_critic_for_reviews     3780 non-null int64\n",
      "num_user_for_reviews       3780 non-null int64\n",
      "director_facebook_likes    3780 non-null int64\n",
      "actor_1_facebook_likes     3780 non-null int64\n",
      "actor_2_facebook_likes     3780 non-null int64\n",
      "actor_3_facebook_likes     3780 non-null int64\n",
      "budget                     3780 non-null int64\n",
      "gross                      3780 non-null int64\n",
      "title_year                 3780 non-null int64\n",
      "dtypes: int64(9)\n",
      "memory usage: 295.3 KB\n"
     ]
    }
   ],
   "source": [
    "df_movies_clean[['num_critic_for_reviews','num_user_for_reviews', 'director_facebook_likes','actor_1_facebook_likes',\n",
    "                 'actor_2_facebook_likes', 'actor_3_facebook_likes', 'budget', 'gross','title_year']].info()"
   ]
  },
  {
   "cell_type": "markdown",
   "metadata": {},
   "source": [
    "#### 7. Refactor  'plot_keywords'"
   ]
  },
  {
   "cell_type": "markdown",
   "metadata": {},
   "source": [
    "##### Define"
   ]
  },
  {
   "cell_type": "markdown",
   "metadata": {},
   "source": [
    "In those 2 columns, the words are separated by '|' and we'll split them in lists"
   ]
  },
  {
   "cell_type": "markdown",
   "metadata": {},
   "source": [
    "##### Code"
   ]
  },
  {
   "cell_type": "code",
   "execution_count": 31,
   "metadata": {},
   "outputs": [],
   "source": [
    "df_movies_clean['genres_col1'] = df_movies_clean['genres'].apply(lambda x: x.split('|')[0].lower())"
   ]
  },
  {
   "cell_type": "code",
   "execution_count": 32,
   "metadata": {},
   "outputs": [],
   "source": [
    "df_movies_clean['plot_keywords'] = df_movies_clean['plot_keywords'].apply(lambda x: x.split('|'))"
   ]
  },
  {
   "cell_type": "markdown",
   "metadata": {},
   "source": [
    "##### Test"
   ]
  },
  {
   "cell_type": "code",
   "execution_count": 33,
   "metadata": {},
   "outputs": [
    {
     "data": {
      "text/html": [
       "<div>\n",
       "<style scoped>\n",
       "    .dataframe tbody tr th:only-of-type {\n",
       "        vertical-align: middle;\n",
       "    }\n",
       "\n",
       "    .dataframe tbody tr th {\n",
       "        vertical-align: top;\n",
       "    }\n",
       "\n",
       "    .dataframe thead th {\n",
       "        text-align: right;\n",
       "    }\n",
       "</style>\n",
       "<table border=\"1\" class=\"dataframe\">\n",
       "  <thead>\n",
       "    <tr style=\"text-align: right;\">\n",
       "      <th></th>\n",
       "      <th>genres</th>\n",
       "      <th>genres_col1</th>\n",
       "      <th>plot_keywords</th>\n",
       "    </tr>\n",
       "  </thead>\n",
       "  <tbody>\n",
       "    <tr>\n",
       "      <th>554</th>\n",
       "      <td>Action|Drama|Fantasy|Romance</td>\n",
       "      <td>action</td>\n",
       "      <td>[burned alive, castration, olympus, torture, t...</td>\n",
       "    </tr>\n",
       "    <tr>\n",
       "      <th>1042</th>\n",
       "      <td>Crime|Drama|Mystery|Thriller</td>\n",
       "      <td>crime</td>\n",
       "      <td>[new york city, police, quadriplegic, serial k...</td>\n",
       "    </tr>\n",
       "    <tr>\n",
       "      <th>1287</th>\n",
       "      <td>Action|Comedy|Crime</td>\n",
       "      <td>action</td>\n",
       "      <td>[murder, on the run, security camera, surveill...</td>\n",
       "    </tr>\n",
       "    <tr>\n",
       "      <th>582</th>\n",
       "      <td>Adventure|Animation|Comedy|Family|Fantasy|Romance</td>\n",
       "      <td>adventure</td>\n",
       "      <td>[drag queen, physical appearance, princess, qu...</td>\n",
       "    </tr>\n",
       "    <tr>\n",
       "      <th>2244</th>\n",
       "      <td>Drama|Romance</td>\n",
       "      <td>drama</td>\n",
       "      <td>[brother sister relationship, high school grad...</td>\n",
       "    </tr>\n",
       "  </tbody>\n",
       "</table>\n",
       "</div>"
      ],
      "text/plain": [
       "                                                 genres genres_col1  \\\n",
       "554                        Action|Drama|Fantasy|Romance      action   \n",
       "1042                       Crime|Drama|Mystery|Thriller       crime   \n",
       "1287                                Action|Comedy|Crime      action   \n",
       "582   Adventure|Animation|Comedy|Family|Fantasy|Romance   adventure   \n",
       "2244                                      Drama|Romance       drama   \n",
       "\n",
       "                                          plot_keywords  \n",
       "554   [burned alive, castration, olympus, torture, t...  \n",
       "1042  [new york city, police, quadriplegic, serial k...  \n",
       "1287  [murder, on the run, security camera, surveill...  \n",
       "582   [drag queen, physical appearance, princess, qu...  \n",
       "2244  [brother sister relationship, high school grad...  "
      ]
     },
     "execution_count": 33,
     "metadata": {},
     "output_type": "execute_result"
    }
   ],
   "source": [
    "df_movies_clean[['genres','genres_col1','plot_keywords']].sample(5)"
   ]
  },
  {
   "cell_type": "markdown",
   "metadata": {},
   "source": [
    "#### 8. Content_rating column (Feature Engineering)"
   ]
  },
  {
   "cell_type": "markdown",
   "metadata": {},
   "source": [
    "##### Define"
   ]
  },
  {
   "cell_type": "markdown",
   "metadata": {},
   "source": [
    "Content_rating has different mixed categories. We'll uniformize those and delete the once missing."
   ]
  },
  {
   "cell_type": "markdown",
   "metadata": {},
   "source": [
    "##### Code"
   ]
  },
  {
   "cell_type": "code",
   "execution_count": 34,
   "metadata": {},
   "outputs": [
    {
     "data": {
      "text/plain": [
       "R            1699\n",
       "PG-13        1280\n",
       "PG            560\n",
       "G              91\n",
       "               47\n",
       "Not Rated      41\n",
       "Unrated        24\n",
       "Approved       17\n",
       "X               9\n",
       "NC-17           6\n",
       "Passed          3\n",
       "M               2\n",
       "GP              1\n",
       "Name: content_rating, dtype: int64"
      ]
     },
     "execution_count": 34,
     "metadata": {},
     "output_type": "execute_result"
    }
   ],
   "source": [
    "df_movies_clean.content_rating.value_counts()"
   ]
  },
  {
   "cell_type": "markdown",
   "metadata": {},
   "source": [
    "**Comments:**\n",
    "\n",
    "according to source: https://en.wikipedia.org/wiki/Motion_Picture_Association_of_America_film_rating_system\n",
    "> - M = GP = PG  => we'll convert all of those to PG\n",
    "> - X = NC-17   => we'll convert the X to NC-17\n",
    "> - We'll transform \"Not Rated\", \"Unrated\", \"Approved\" and \"Passed\" by the most commun category = R"
   ]
  },
  {
   "cell_type": "code",
   "execution_count": 35,
   "metadata": {},
   "outputs": [],
   "source": [
    "# Drop line where no content_rating\n",
    "df_movies_clean = df_movies_clean.query('content_rating != \" \"')"
   ]
  },
  {
   "cell_type": "code",
   "execution_count": 36,
   "metadata": {},
   "outputs": [],
   "source": [
    "# Convert M and GP into PG\n",
    "df_movies_clean['content_rating'] = df_movies_clean['content_rating'].apply(lambda x: 'PG' if (x=='M' or x=='GP') \n",
    "                                                                           else x)"
   ]
  },
  {
   "cell_type": "code",
   "execution_count": 37,
   "metadata": {},
   "outputs": [],
   "source": [
    "# Convert X into NC-17\n",
    "df_movies_clean['content_rating'] = df_movies_clean['content_rating'].apply(lambda x: 'NC-17' if (x=='X') \n",
    "                                                                           else x)"
   ]
  },
  {
   "cell_type": "code",
   "execution_count": 38,
   "metadata": {},
   "outputs": [],
   "source": [
    "# Convert \"Not Rated\", \"Unrated\", \"Approved\" and \"Passed\"into \"R\"\n",
    "df_movies_clean['content_rating'] = df_movies_clean['content_rating'].apply(lambda x: 'R' \n",
    "                                                        if (x==\"Not Rated\" or x==\"Unrated\" or x==\"Approved\" or\n",
    "                                                           x==\"Passed\") \n",
    "                                                        else x)"
   ]
  },
  {
   "cell_type": "markdown",
   "metadata": {},
   "source": [
    "##### Test"
   ]
  },
  {
   "cell_type": "code",
   "execution_count": 39,
   "metadata": {},
   "outputs": [
    {
     "data": {
      "text/plain": [
       "R        1784\n",
       "PG-13    1280\n",
       "PG        563\n",
       "G          91\n",
       "NC-17      15\n",
       "Name: content_rating, dtype: int64"
      ]
     },
     "execution_count": 39,
     "metadata": {},
     "output_type": "execute_result"
    }
   ],
   "source": [
    "df_movies_clean.content_rating.value_counts()"
   ]
  },
  {
   "cell_type": "markdown",
   "metadata": {},
   "source": [
    "#### 9. Cleaning \"movie_title\""
   ]
  },
  {
   "cell_type": "markdown",
   "metadata": {},
   "source": [
    "##### Define"
   ]
  },
  {
   "cell_type": "markdown",
   "metadata": {},
   "source": [
    "Removing \"\\xa0\", in the movie titles"
   ]
  },
  {
   "cell_type": "markdown",
   "metadata": {},
   "source": [
    "##### Code"
   ]
  },
  {
   "cell_type": "code",
   "execution_count": 40,
   "metadata": {},
   "outputs": [],
   "source": [
    "df_movies_clean['movie_title'] = df_movies_clean['movie_title'].apply(lambda x: x.replace(\"\\xa0\",\"\"))"
   ]
  },
  {
   "cell_type": "markdown",
   "metadata": {},
   "source": [
    "##### Test"
   ]
  },
  {
   "cell_type": "code",
   "execution_count": 41,
   "metadata": {},
   "outputs": [
    {
     "data": {
      "text/plain": [
       "array(['Avatar', \"Pirates of the Caribbean: At World's End\", 'Spectre'],\n",
       "      dtype=object)"
      ]
     },
     "execution_count": 41,
     "metadata": {},
     "output_type": "execute_result"
    }
   ],
   "source": [
    "df_movies_clean['movie_title'].head(3).values"
   ]
  },
  {
   "cell_type": "markdown",
   "metadata": {},
   "source": [
    "### Looking for outliers"
   ]
  },
  {
   "cell_type": "code",
   "execution_count": 42,
   "metadata": {},
   "outputs": [],
   "source": [
    "likes = ['movie_facebook_likes','director_facebook_likes','actor_1_facebook_likes','actor_2_facebook_likes',\n",
    "        'actor_3_facebook_likes','cast_total_facebook_likes']\n",
    "money = ['budget','gross']\n",
    "base_color = sb.color_palette()[0]"
   ]
  },
  {
   "cell_type": "markdown",
   "metadata": {},
   "source": [
    "#### Release year"
   ]
  },
  {
   "cell_type": "code",
   "execution_count": 43,
   "metadata": {},
   "outputs": [
    {
     "data": {
      "image/png": "[encoded data removed]",
      "text/plain": [
       "<Figure size 432x288 with 1 Axes>"
      ]
     },
     "metadata": {},
     "output_type": "display_data"
    }
   ],
   "source": [
    "df_movies_clean['title_year'].plot(kind='box')\n",
    "plt.ylabel('Year of release')\n",
    "plt.ylim([1920,2020])\n",
    "plt.title(\"Boxplot of release year\");"
   ]
  },
  {
   "cell_type": "code",
   "execution_count": 44,
   "metadata": {},
   "outputs": [
    {
     "data": {
      "text/plain": [
       "count    3733.000000\n",
       "mean     2002.984731\n",
       "std         9.937723\n",
       "min      1927.000000\n",
       "25%      1999.000000\n",
       "50%      2004.000000\n",
       "75%      2010.000000\n",
       "max      2016.000000\n",
       "Name: title_year, dtype: float64"
      ]
     },
     "execution_count": 44,
     "metadata": {},
     "output_type": "execute_result"
    }
   ],
   "source": [
    "df_movies_clean.title_year.describe()"
   ]
  },
  {
   "cell_type": "code",
   "execution_count": 45,
   "metadata": {},
   "outputs": [
    {
     "data": {
      "text/html": [
       "<div>\n",
       "<style scoped>\n",
       "    .dataframe tbody tr th:only-of-type {\n",
       "        vertical-align: middle;\n",
       "    }\n",
       "\n",
       "    .dataframe tbody tr th {\n",
       "        vertical-align: top;\n",
       "    }\n",
       "\n",
       "    .dataframe thead th {\n",
       "        text-align: right;\n",
       "    }\n",
       "</style>\n",
       "<table border=\"1\" class=\"dataframe\">\n",
       "  <thead>\n",
       "    <tr style=\"text-align: right;\">\n",
       "      <th></th>\n",
       "      <th>movie_title</th>\n",
       "      <th>genres</th>\n",
       "      <th>director_name</th>\n",
       "      <th>actor_1_name</th>\n",
       "      <th>actor_2_name</th>\n",
       "      <th>actor_3_name</th>\n",
       "      <th>country</th>\n",
       "      <th>language</th>\n",
       "      <th>color</th>\n",
       "      <th>plot_keywords</th>\n",
       "      <th>...</th>\n",
       "      <th>num_voted_users</th>\n",
       "      <th>num_user_for_reviews</th>\n",
       "      <th>num_critic_for_reviews</th>\n",
       "      <th>movie_facebook_likes</th>\n",
       "      <th>director_facebook_likes</th>\n",
       "      <th>actor_1_facebook_likes</th>\n",
       "      <th>actor_2_facebook_likes</th>\n",
       "      <th>actor_3_facebook_likes</th>\n",
       "      <th>cast_total_facebook_likes</th>\n",
       "      <th>genres_col1</th>\n",
       "    </tr>\n",
       "  </thead>\n",
       "  <tbody>\n",
       "    <tr>\n",
       "      <th>2734</th>\n",
       "      <td>Metropolis</td>\n",
       "      <td>Drama|Sci-Fi</td>\n",
       "      <td>Fritz Lang</td>\n",
       "      <td>Brigitte Helm</td>\n",
       "      <td>Gustav Fröhlich</td>\n",
       "      <td>Rudolf Klein-Rogge</td>\n",
       "      <td>Germany</td>\n",
       "      <td>German</td>\n",
       "      <td>Black and White</td>\n",
       "      <td>[art deco, bible quote, dance, silent film, wo...</td>\n",
       "      <td>...</td>\n",
       "      <td>111841</td>\n",
       "      <td>413</td>\n",
       "      <td>260</td>\n",
       "      <td>12000</td>\n",
       "      <td>756</td>\n",
       "      <td>136</td>\n",
       "      <td>23</td>\n",
       "      <td>18</td>\n",
       "      <td>203</td>\n",
       "      <td>drama</td>\n",
       "    </tr>\n",
       "  </tbody>\n",
       "</table>\n",
       "<p>1 rows × 27 columns</p>\n",
       "</div>"
      ],
      "text/plain": [
       "     movie_title        genres director_name   actor_1_name     actor_2_name  \\\n",
       "2734  Metropolis  Drama|Sci-Fi    Fritz Lang  Brigitte Helm  Gustav Fröhlich   \n",
       "\n",
       "            actor_3_name  country language             color  \\\n",
       "2734  Rudolf Klein-Rogge  Germany   German   Black and White   \n",
       "\n",
       "                                          plot_keywords     ...       \\\n",
       "2734  [art deco, bible quote, dance, silent film, wo...     ...        \n",
       "\n",
       "      num_voted_users  num_user_for_reviews  num_critic_for_reviews  \\\n",
       "2734           111841                   413                     260   \n",
       "\n",
       "      movie_facebook_likes director_facebook_likes  actor_1_facebook_likes  \\\n",
       "2734                 12000                     756                     136   \n",
       "\n",
       "     actor_2_facebook_likes  actor_3_facebook_likes  \\\n",
       "2734                     23                      18   \n",
       "\n",
       "      cast_total_facebook_likes  genres_col1  \n",
       "2734                        203        drama  \n",
       "\n",
       "[1 rows x 27 columns]"
      ]
     },
     "execution_count": 45,
     "metadata": {},
     "output_type": "execute_result"
    }
   ],
   "source": [
    "df_movies_clean.query('title_year == 1927')"
   ]
  },
  {
   "cell_type": "markdown",
   "metadata": {},
   "source": [
    "##### Comments:\n",
    "> After doublechecking the information this movie on Google, the conclusion is that this value isn't an outlier"
   ]
  },
  {
   "cell_type": "markdown",
   "metadata": {},
   "source": [
    "#### Duration"
   ]
  },
  {
   "cell_type": "code",
   "execution_count": 46,
   "metadata": {},
   "outputs": [
    {
     "data": {
      "image/png": "[encoded data removed]",
      "text/plain": [
       "<Figure size 432x288 with 1 Axes>"
      ]
     },
     "metadata": {},
     "output_type": "display_data"
    }
   ],
   "source": [
    "df_movies_clean['duration'].plot(kind='box')\n",
    "plt.ylabel('Duration in [min]')\n",
    "plt.title(\"Boxplot of duration\");"
   ]
  },
  {
   "cell_type": "code",
   "execution_count": 47,
   "metadata": {},
   "outputs": [
    {
     "data": {
      "text/plain": [
       "count    3733.000000\n",
       "mean      109.918296\n",
       "std        22.641446\n",
       "min        37.000000\n",
       "25%        95.000000\n",
       "50%       106.000000\n",
       "75%       120.000000\n",
       "max       330.000000\n",
       "Name: duration, dtype: float64"
      ]
     },
     "execution_count": 47,
     "metadata": {},
     "output_type": "execute_result"
    }
   ],
   "source": [
    "df_movies_clean.duration.describe()"
   ]
  },
  {
   "cell_type": "code",
   "execution_count": 48,
   "metadata": {},
   "outputs": [
    {
     "data": {
      "text/html": [
       "<div>\n",
       "<style scoped>\n",
       "    .dataframe tbody tr th:only-of-type {\n",
       "        vertical-align: middle;\n",
       "    }\n",
       "\n",
       "    .dataframe tbody tr th {\n",
       "        vertical-align: top;\n",
       "    }\n",
       "\n",
       "    .dataframe thead th {\n",
       "        text-align: right;\n",
       "    }\n",
       "</style>\n",
       "<table border=\"1\" class=\"dataframe\">\n",
       "  <thead>\n",
       "    <tr style=\"text-align: right;\">\n",
       "      <th></th>\n",
       "      <th>movie_title</th>\n",
       "      <th>genres</th>\n",
       "      <th>director_name</th>\n",
       "      <th>actor_1_name</th>\n",
       "      <th>actor_2_name</th>\n",
       "      <th>actor_3_name</th>\n",
       "      <th>country</th>\n",
       "      <th>language</th>\n",
       "      <th>color</th>\n",
       "      <th>plot_keywords</th>\n",
       "      <th>...</th>\n",
       "      <th>num_voted_users</th>\n",
       "      <th>num_user_for_reviews</th>\n",
       "      <th>num_critic_for_reviews</th>\n",
       "      <th>movie_facebook_likes</th>\n",
       "      <th>director_facebook_likes</th>\n",
       "      <th>actor_1_facebook_likes</th>\n",
       "      <th>actor_2_facebook_likes</th>\n",
       "      <th>actor_3_facebook_likes</th>\n",
       "      <th>cast_total_facebook_likes</th>\n",
       "      <th>genres_col1</th>\n",
       "    </tr>\n",
       "  </thead>\n",
       "  <tbody>\n",
       "    <tr>\n",
       "      <th>1144</th>\n",
       "      <td>Heaven's Gate</td>\n",
       "      <td>Adventure|Drama|Western</td>\n",
       "      <td>Michael Cimino</td>\n",
       "      <td>Jeff Bridges</td>\n",
       "      <td>Sam Waterston</td>\n",
       "      <td>Isabelle Huppert</td>\n",
       "      <td>USA</td>\n",
       "      <td>English</td>\n",
       "      <td>Color</td>\n",
       "      <td>[1890s, hired gun, immigrant, johnson county w...</td>\n",
       "      <td>...</td>\n",
       "      <td>9830</td>\n",
       "      <td>189</td>\n",
       "      <td>102</td>\n",
       "      <td>1000</td>\n",
       "      <td>517</td>\n",
       "      <td>12000</td>\n",
       "      <td>849</td>\n",
       "      <td>678</td>\n",
       "      <td>14255</td>\n",
       "      <td>adventure</td>\n",
       "    </tr>\n",
       "    <tr>\n",
       "      <th>1501</th>\n",
       "      <td>Blood In, Blood Out</td>\n",
       "      <td>Crime|Drama</td>\n",
       "      <td>Taylor Hackford</td>\n",
       "      <td>Delroy Lindo</td>\n",
       "      <td>Jesse Borrego</td>\n",
       "      <td>Raymond Cruz</td>\n",
       "      <td>USA</td>\n",
       "      <td>English</td>\n",
       "      <td>Color</td>\n",
       "      <td>[1970s, 1980s, barrio, gang war, mexican]</td>\n",
       "      <td>...</td>\n",
       "      <td>23181</td>\n",
       "      <td>129</td>\n",
       "      <td>12</td>\n",
       "      <td>6000</td>\n",
       "      <td>138</td>\n",
       "      <td>848</td>\n",
       "      <td>674</td>\n",
       "      <td>672</td>\n",
       "      <td>3227</td>\n",
       "      <td>crime</td>\n",
       "    </tr>\n",
       "  </tbody>\n",
       "</table>\n",
       "<p>2 rows × 27 columns</p>\n",
       "</div>"
      ],
      "text/plain": [
       "              movie_title                   genres    director_name  \\\n",
       "1144        Heaven's Gate  Adventure|Drama|Western   Michael Cimino   \n",
       "1501  Blood In, Blood Out              Crime|Drama  Taylor Hackford   \n",
       "\n",
       "      actor_1_name   actor_2_name      actor_3_name country language  color  \\\n",
       "1144  Jeff Bridges  Sam Waterston  Isabelle Huppert     USA  English  Color   \n",
       "1501  Delroy Lindo  Jesse Borrego      Raymond Cruz     USA  English  Color   \n",
       "\n",
       "                                          plot_keywords     ...       \\\n",
       "1144  [1890s, hired gun, immigrant, johnson county w...     ...        \n",
       "1501          [1970s, 1980s, barrio, gang war, mexican]     ...        \n",
       "\n",
       "      num_voted_users  num_user_for_reviews  num_critic_for_reviews  \\\n",
       "1144             9830                   189                     102   \n",
       "1501            23181                   129                      12   \n",
       "\n",
       "      movie_facebook_likes director_facebook_likes  actor_1_facebook_likes  \\\n",
       "1144                  1000                     517                   12000   \n",
       "1501                  6000                     138                     848   \n",
       "\n",
       "     actor_2_facebook_likes  actor_3_facebook_likes  \\\n",
       "1144                    849                     678   \n",
       "1501                    674                     672   \n",
       "\n",
       "      cast_total_facebook_likes  genres_col1  \n",
       "1144                      14255    adventure  \n",
       "1501                       3227        crime  \n",
       "\n",
       "[2 rows x 27 columns]"
      ]
     },
     "execution_count": 48,
     "metadata": {},
     "output_type": "execute_result"
    }
   ],
   "source": [
    "df_movies_clean.query('duration > 300')"
   ]
  },
  {
   "cell_type": "code",
   "execution_count": 49,
   "metadata": {},
   "outputs": [
    {
     "data": {
      "text/html": [
       "<div>\n",
       "<style scoped>\n",
       "    .dataframe tbody tr th:only-of-type {\n",
       "        vertical-align: middle;\n",
       "    }\n",
       "\n",
       "    .dataframe tbody tr th {\n",
       "        vertical-align: top;\n",
       "    }\n",
       "\n",
       "    .dataframe thead th {\n",
       "        text-align: right;\n",
       "    }\n",
       "</style>\n",
       "<table border=\"1\" class=\"dataframe\">\n",
       "  <thead>\n",
       "    <tr style=\"text-align: right;\">\n",
       "      <th></th>\n",
       "      <th>movie_title</th>\n",
       "      <th>movie_imdb_link</th>\n",
       "      <th>duration</th>\n",
       "      <th>title_year</th>\n",
       "      <th>country</th>\n",
       "    </tr>\n",
       "  </thead>\n",
       "  <tbody>\n",
       "    <tr>\n",
       "      <th>3318</th>\n",
       "      <td>Flame and Citron</td>\n",
       "      <td>http://www.imdb.com/title/tt0920458/?ref_=fn_t...</td>\n",
       "      <td>45.0</td>\n",
       "      <td>2008</td>\n",
       "      <td>Denmark</td>\n",
       "    </tr>\n",
       "    <tr>\n",
       "      <th>4003</th>\n",
       "      <td>Evil Dead II</td>\n",
       "      <td>http://www.imdb.com/title/tt0092991/?ref_=fn_t...</td>\n",
       "      <td>37.0</td>\n",
       "      <td>1987</td>\n",
       "      <td>USA</td>\n",
       "    </tr>\n",
       "    <tr>\n",
       "      <th>4586</th>\n",
       "      <td>Taxi to the Dark Side</td>\n",
       "      <td>http://www.imdb.com/title/tt0854678/?ref_=fn_t...</td>\n",
       "      <td>53.0</td>\n",
       "      <td>2007</td>\n",
       "      <td>USA</td>\n",
       "    </tr>\n",
       "  </tbody>\n",
       "</table>\n",
       "</div>"
      ],
      "text/plain": [
       "                movie_title  \\\n",
       "3318       Flame and Citron   \n",
       "4003           Evil Dead II   \n",
       "4586  Taxi to the Dark Side   \n",
       "\n",
       "                                        movie_imdb_link  duration  title_year  \\\n",
       "3318  http://www.imdb.com/title/tt0920458/?ref_=fn_t...      45.0        2008   \n",
       "4003  http://www.imdb.com/title/tt0092991/?ref_=fn_t...      37.0        1987   \n",
       "4586  http://www.imdb.com/title/tt0854678/?ref_=fn_t...      53.0        2007   \n",
       "\n",
       "      country  \n",
       "3318  Denmark  \n",
       "4003      USA  \n",
       "4586      USA  "
      ]
     },
     "execution_count": 49,
     "metadata": {},
     "output_type": "execute_result"
    }
   ],
   "source": [
    "df_movies_clean.query('duration < 60')[['movie_title','movie_imdb_link','duration','title_year','country']]"
   ]
  },
  {
   "cell_type": "markdown",
   "metadata": {},
   "source": [
    "##### Comments:\n",
    "> after looking on imdb, those durations are correct for all the movies but \"Evil Dead II\" with a duration of 84min and \"Taxi to the Dark Side\" with 106 min."
   ]
  },
  {
   "cell_type": "markdown",
   "metadata": {},
   "source": [
    "##### Code"
   ]
  },
  {
   "cell_type": "code",
   "execution_count": 50,
   "metadata": {},
   "outputs": [],
   "source": [
    "df_movies_clean.loc[[4003], ['duration']] = 84\n",
    "df_movies_clean.loc[[4586], ['duration']] = 106"
   ]
  },
  {
   "cell_type": "markdown",
   "metadata": {},
   "source": [
    "##### Test"
   ]
  },
  {
   "cell_type": "code",
   "execution_count": 51,
   "metadata": {},
   "outputs": [
    {
     "name": "stdout",
     "output_type": "stream",
     "text": [
      "movie_title                                             Evil Dead II\n",
      "movie_imdb_link    http://www.imdb.com/title/tt0092991/?ref_=fn_t...\n",
      "duration                                                          84\n",
      "title_year                                                      1987\n",
      "country                                                          USA\n",
      "Name: 4003, dtype: object\n",
      "movie_title                                    Taxi to the Dark Side\n",
      "movie_imdb_link    http://www.imdb.com/title/tt0854678/?ref_=fn_t...\n",
      "duration                                                         106\n",
      "title_year                                                      2007\n",
      "country                                                          USA\n",
      "Name: 4586, dtype: object\n"
     ]
    }
   ],
   "source": [
    "print(df_movies_clean.loc[4003][['movie_title','movie_imdb_link','duration','title_year','country']])\n",
    "print(df_movies_clean.loc[4586][['movie_title','movie_imdb_link','duration','title_year','country']])"
   ]
  },
  {
   "cell_type": "markdown",
   "metadata": {},
   "source": [
    "#### Money related columns"
   ]
  },
  {
   "cell_type": "code",
   "execution_count": 52,
   "metadata": {},
   "outputs": [
    {
     "data": {
      "image/png": "[encoded data removed]",
      "text/plain": [
       "<Figure size 720x360 with 1 Axes>"
      ]
     },
     "metadata": {},
     "output_type": "display_data"
    }
   ],
   "source": [
    "plt.figure(figsize = [10,5])\n",
    "sb.boxplot(x=\"variable\", y=\"value\", data=df_movies_clean[money].melt(),color=base_color)\n",
    "plt.title(\"Boxplot for money related columns\")\n",
    "plt.ylim([0,500000000])\n",
    "plt.xlabel(\"\")\n",
    "plt.ylabel(\"[$]\")\n",
    "plt.xticks(rotation = 90);\n",
    "plt.show()"
   ]
  },
  {
   "cell_type": "code",
   "execution_count": 53,
   "metadata": {},
   "outputs": [
    {
     "data": {
      "text/html": [
       "<div>\n",
       "<style scoped>\n",
       "    .dataframe tbody tr th:only-of-type {\n",
       "        vertical-align: middle;\n",
       "    }\n",
       "\n",
       "    .dataframe tbody tr th {\n",
       "        vertical-align: top;\n",
       "    }\n",
       "\n",
       "    .dataframe thead th {\n",
       "        text-align: right;\n",
       "    }\n",
       "</style>\n",
       "<table border=\"1\" class=\"dataframe\">\n",
       "  <thead>\n",
       "    <tr style=\"text-align: right;\">\n",
       "      <th></th>\n",
       "      <th>budget</th>\n",
       "      <th>gross</th>\n",
       "    </tr>\n",
       "  </thead>\n",
       "  <tbody>\n",
       "    <tr>\n",
       "      <th>count</th>\n",
       "      <td>3.733000e+03</td>\n",
       "      <td>3.733000e+03</td>\n",
       "    </tr>\n",
       "    <tr>\n",
       "      <th>mean</th>\n",
       "      <td>4.504893e+07</td>\n",
       "      <td>5.092484e+07</td>\n",
       "    </tr>\n",
       "    <tr>\n",
       "      <th>std</th>\n",
       "      <td>2.265484e+08</td>\n",
       "      <td>6.897250e+07</td>\n",
       "    </tr>\n",
       "    <tr>\n",
       "      <th>min</th>\n",
       "      <td>2.180000e+02</td>\n",
       "      <td>1.620000e+02</td>\n",
       "    </tr>\n",
       "    <tr>\n",
       "      <th>25%</th>\n",
       "      <td>1.000000e+07</td>\n",
       "      <td>7.156725e+06</td>\n",
       "    </tr>\n",
       "    <tr>\n",
       "      <th>50%</th>\n",
       "      <td>2.400000e+07</td>\n",
       "      <td>2.803125e+07</td>\n",
       "    </tr>\n",
       "    <tr>\n",
       "      <th>75%</th>\n",
       "      <td>5.000000e+07</td>\n",
       "      <td>6.553507e+07</td>\n",
       "    </tr>\n",
       "    <tr>\n",
       "      <th>max</th>\n",
       "      <td>1.221550e+10</td>\n",
       "      <td>7.605058e+08</td>\n",
       "    </tr>\n",
       "  </tbody>\n",
       "</table>\n",
       "</div>"
      ],
      "text/plain": [
       "             budget         gross\n",
       "count  3.733000e+03  3.733000e+03\n",
       "mean   4.504893e+07  5.092484e+07\n",
       "std    2.265484e+08  6.897250e+07\n",
       "min    2.180000e+02  1.620000e+02\n",
       "25%    1.000000e+07  7.156725e+06\n",
       "50%    2.400000e+07  2.803125e+07\n",
       "75%    5.000000e+07  6.553507e+07\n",
       "max    1.221550e+10  7.605058e+08"
      ]
     },
     "execution_count": 53,
     "metadata": {},
     "output_type": "execute_result"
    }
   ],
   "source": [
    "df_movies_clean[money].describe()"
   ]
  },
  {
   "cell_type": "code",
   "execution_count": 54,
   "metadata": {},
   "outputs": [
    {
     "data": {
      "text/html": [
       "<div>\n",
       "<style scoped>\n",
       "    .dataframe tbody tr th:only-of-type {\n",
       "        vertical-align: middle;\n",
       "    }\n",
       "\n",
       "    .dataframe tbody tr th {\n",
       "        vertical-align: top;\n",
       "    }\n",
       "\n",
       "    .dataframe thead th {\n",
       "        text-align: right;\n",
       "    }\n",
       "</style>\n",
       "<table border=\"1\" class=\"dataframe\">\n",
       "  <thead>\n",
       "    <tr style=\"text-align: right;\">\n",
       "      <th></th>\n",
       "      <th>movie_title</th>\n",
       "      <th>director_name</th>\n",
       "      <th>duration</th>\n",
       "      <th>movie_imdb_link</th>\n",
       "      <th>imdb_score</th>\n",
       "      <th>budget</th>\n",
       "      <th>gross</th>\n",
       "    </tr>\n",
       "  </thead>\n",
       "  <tbody>\n",
       "    <tr>\n",
       "      <th>2988</th>\n",
       "      <td>The Host</td>\n",
       "      <td>Joon-ho Bong</td>\n",
       "      <td>110.0</td>\n",
       "      <td>http://www.imdb.com/title/tt0468492/?ref_=fn_t...</td>\n",
       "      <td>7.0</td>\n",
       "      <td>12215500000</td>\n",
       "      <td>2201412</td>\n",
       "    </tr>\n",
       "  </tbody>\n",
       "</table>\n",
       "</div>"
      ],
      "text/plain": [
       "     movie_title director_name  duration  \\\n",
       "2988    The Host  Joon-ho Bong     110.0   \n",
       "\n",
       "                                        movie_imdb_link  imdb_score  \\\n",
       "2988  http://www.imdb.com/title/tt0468492/?ref_=fn_t...         7.0   \n",
       "\n",
       "           budget    gross  \n",
       "2988  12215500000  2201412  "
      ]
     },
     "execution_count": 54,
     "metadata": {},
     "output_type": "execute_result"
    }
   ],
   "source": [
    "df_movies_clean.query('budget == 1.221550e+10')[['movie_title','director_name','duration','movie_imdb_link',\n",
    "                                                  'imdb_score','budget','gross']]"
   ]
  },
  {
   "cell_type": "code",
   "execution_count": 55,
   "metadata": {},
   "outputs": [
    {
     "data": {
      "text/plain": [
       "2988    http://www.imdb.com/title/tt0468492/?ref_=fn_t...\n",
       "Name: movie_imdb_link, dtype: object"
      ]
     },
     "execution_count": 55,
     "metadata": {},
     "output_type": "execute_result"
    }
   ],
   "source": [
    "df_movies_clean.query('budget == 1.221550e+10')['movie_imdb_link']"
   ]
  },
  {
   "cell_type": "markdown",
   "metadata": {},
   "source": [
    "##### Comments:\n",
    "> after looking at the IMDB link, it seems that the budget is given as KRW 12,215,500,000 which is approximatively\n",
    "10 921 414 US dollars. So we'll replace the budget by this value."
   ]
  },
  {
   "cell_type": "markdown",
   "metadata": {},
   "source": [
    "##### Code"
   ]
  },
  {
   "cell_type": "code",
   "execution_count": 56,
   "metadata": {},
   "outputs": [],
   "source": [
    "df_movies_clean.loc[[2988], ['budget']] = 10921414"
   ]
  },
  {
   "cell_type": "markdown",
   "metadata": {},
   "source": [
    "#### Let's have a closer look to some other budget, gross outliers"
   ]
  },
  {
   "cell_type": "markdown",
   "metadata": {},
   "source": [
    "##### First looking at budgets which seems to be too high"
   ]
  },
  {
   "cell_type": "code",
   "execution_count": 57,
   "metadata": {},
   "outputs": [],
   "source": [
    "def count_outliers(data,list_columns):\n",
    "    for composant in list_columns:\n",
    "        # defition of the indicators\n",
    "        max_comp = data[composant].max()\n",
    "        qtiles_1_3 = list(data[composant].quantile([0.25,0.75]))\n",
    "        inter_qt = (qtiles_1_3[1]-qtiles_1_3[0])\n",
    "        max_IQR = qtiles_1_3[1] + 1.5*inter_qt\n",
    "        lim_sup = min(max_comp,max_IQR)\n",
    "        \n",
    "        tot_length = data.shape[0]\n",
    "        print(composant.upper())\n",
    "        print(max_IQR)\n",
    "        criteria = (data[composant]> lim_sup)\n",
    "        print(\"Number of outliers\")\n",
    "        print(criteria.sum())   \n",
    "        print(\"% of outliers vs length data\")\n",
    "        print((criteria.sum()/tot_length)*100)\n",
    "        print(\"\")"
   ]
  },
  {
   "cell_type": "code",
   "execution_count": 58,
   "metadata": {},
   "outputs": [
    {
     "name": "stdout",
     "output_type": "stream",
     "text": [
      "BUDGET\n",
      "110000000.0\n",
      "Number of outliers\n",
      "256\n",
      "% of outliers vs length data\n",
      "6.857755156710422\n",
      "\n",
      "GROSS\n",
      "153102580.0\n",
      "Number of outliers\n",
      "269\n",
      "% of outliers vs length data\n",
      "7.206000535762122\n",
      "\n"
     ]
    }
   ],
   "source": [
    "count_outliers(df_movies_clean,money)"
   ]
  },
  {
   "cell_type": "code",
   "execution_count": 59,
   "metadata": {},
   "outputs": [
    {
     "data": {
      "text/html": [
       "<div>\n",
       "<style scoped>\n",
       "    .dataframe tbody tr th:only-of-type {\n",
       "        vertical-align: middle;\n",
       "    }\n",
       "\n",
       "    .dataframe tbody tr th {\n",
       "        vertical-align: top;\n",
       "    }\n",
       "\n",
       "    .dataframe thead th {\n",
       "        text-align: right;\n",
       "    }\n",
       "</style>\n",
       "<table border=\"1\" class=\"dataframe\">\n",
       "  <thead>\n",
       "    <tr style=\"text-align: right;\">\n",
       "      <th></th>\n",
       "      <th>movie_title</th>\n",
       "      <th>director_name</th>\n",
       "      <th>country</th>\n",
       "      <th>duration</th>\n",
       "      <th>movie_imdb_link</th>\n",
       "      <th>imdb_score</th>\n",
       "      <th>budget</th>\n",
       "      <th>gross</th>\n",
       "    </tr>\n",
       "  </thead>\n",
       "  <tbody>\n",
       "    <tr>\n",
       "      <th>3859</th>\n",
       "      <td>Lady Vengeance</td>\n",
       "      <td>Chan-wook Park</td>\n",
       "      <td>South Korea</td>\n",
       "      <td>112.0</td>\n",
       "      <td>http://www.imdb.com/title/tt0451094/?ref_=fn_t...</td>\n",
       "      <td>7.7</td>\n",
       "      <td>4200000000</td>\n",
       "      <td>211667</td>\n",
       "    </tr>\n",
       "    <tr>\n",
       "      <th>3005</th>\n",
       "      <td>Fateless</td>\n",
       "      <td>Lajos Koltai</td>\n",
       "      <td>Hungary</td>\n",
       "      <td>134.0</td>\n",
       "      <td>http://www.imdb.com/title/tt0367082/?ref_=fn_t...</td>\n",
       "      <td>7.1</td>\n",
       "      <td>2500000000</td>\n",
       "      <td>195888</td>\n",
       "    </tr>\n",
       "    <tr>\n",
       "      <th>2323</th>\n",
       "      <td>Princess Mononoke</td>\n",
       "      <td>Hayao Miyazaki</td>\n",
       "      <td>Japan</td>\n",
       "      <td>134.0</td>\n",
       "      <td>http://www.imdb.com/title/tt0119698/?ref_=fn_t...</td>\n",
       "      <td>8.4</td>\n",
       "      <td>2400000000</td>\n",
       "      <td>2298191</td>\n",
       "    </tr>\n",
       "    <tr>\n",
       "      <th>2334</th>\n",
       "      <td>Steamboy</td>\n",
       "      <td>Katsuhiro Ôtomo</td>\n",
       "      <td>Japan</td>\n",
       "      <td>103.0</td>\n",
       "      <td>http://www.imdb.com/title/tt0348121/?ref_=fn_t...</td>\n",
       "      <td>6.9</td>\n",
       "      <td>2127519898</td>\n",
       "      <td>410388</td>\n",
       "    </tr>\n",
       "    <tr>\n",
       "      <th>3423</th>\n",
       "      <td>Akira</td>\n",
       "      <td>Katsuhiro Ôtomo</td>\n",
       "      <td>Japan</td>\n",
       "      <td>124.0</td>\n",
       "      <td>http://www.imdb.com/title/tt0094625/?ref_=fn_t...</td>\n",
       "      <td>8.1</td>\n",
       "      <td>1100000000</td>\n",
       "      <td>439162</td>\n",
       "    </tr>\n",
       "    <tr>\n",
       "      <th>4542</th>\n",
       "      <td>Godzilla 2000</td>\n",
       "      <td>Takao Okawara</td>\n",
       "      <td>Japan</td>\n",
       "      <td>99.0</td>\n",
       "      <td>http://www.imdb.com/title/tt0188640/?ref_=fn_t...</td>\n",
       "      <td>6.0</td>\n",
       "      <td>1000000000</td>\n",
       "      <td>10037390</td>\n",
       "    </tr>\n",
       "    <tr>\n",
       "      <th>3075</th>\n",
       "      <td>Kabhi Alvida Naa Kehna</td>\n",
       "      <td>Karan Johar</td>\n",
       "      <td>India</td>\n",
       "      <td>193.0</td>\n",
       "      <td>http://www.imdb.com/title/tt0449999/?ref_=fn_t...</td>\n",
       "      <td>6.0</td>\n",
       "      <td>700000000</td>\n",
       "      <td>3275443</td>\n",
       "    </tr>\n",
       "    <tr>\n",
       "      <th>3851</th>\n",
       "      <td>Tango</td>\n",
       "      <td>Carlos Saura</td>\n",
       "      <td>Spain</td>\n",
       "      <td>115.0</td>\n",
       "      <td>http://www.imdb.com/title/tt0120274/?ref_=fn_t...</td>\n",
       "      <td>7.2</td>\n",
       "      <td>700000000</td>\n",
       "      <td>1687311</td>\n",
       "    </tr>\n",
       "    <tr>\n",
       "      <th>1338</th>\n",
       "      <td>Red Cliff</td>\n",
       "      <td>John Woo</td>\n",
       "      <td>China</td>\n",
       "      <td>150.0</td>\n",
       "      <td>http://www.imdb.com/title/tt0425637/?ref_=fn_t...</td>\n",
       "      <td>7.4</td>\n",
       "      <td>553632000</td>\n",
       "      <td>626809</td>\n",
       "    </tr>\n",
       "    <tr>\n",
       "      <th>3311</th>\n",
       "      <td>The Legend of Suriyothai</td>\n",
       "      <td>Chatrichalerm Yukol</td>\n",
       "      <td>Thailand</td>\n",
       "      <td>300.0</td>\n",
       "      <td>http://www.imdb.com/title/tt0290879/?ref_=fn_t...</td>\n",
       "      <td>6.6</td>\n",
       "      <td>400000000</td>\n",
       "      <td>454255</td>\n",
       "    </tr>\n",
       "    <tr>\n",
       "      <th>1016</th>\n",
       "      <td>The Messenger: The Story of Joan of Arc</td>\n",
       "      <td>Luc Besson</td>\n",
       "      <td>France</td>\n",
       "      <td>158.0</td>\n",
       "      <td>http://www.imdb.com/title/tt0151137/?ref_=fn_t...</td>\n",
       "      <td>6.4</td>\n",
       "      <td>390000000</td>\n",
       "      <td>14131298</td>\n",
       "    </tr>\n",
       "    <tr>\n",
       "      <th>2740</th>\n",
       "      <td>Ong-bak 2</td>\n",
       "      <td>Tony Jaa</td>\n",
       "      <td>Thailand</td>\n",
       "      <td>110.0</td>\n",
       "      <td>http://www.imdb.com/title/tt0785035/?ref_=fn_t...</td>\n",
       "      <td>6.2</td>\n",
       "      <td>300000000</td>\n",
       "      <td>102055</td>\n",
       "    </tr>\n",
       "  </tbody>\n",
       "</table>\n",
       "</div>"
      ],
      "text/plain": [
       "                                  movie_title        director_name  \\\n",
       "3859                           Lady Vengeance       Chan-wook Park   \n",
       "3005                                 Fateless         Lajos Koltai   \n",
       "2323                        Princess Mononoke       Hayao Miyazaki   \n",
       "2334                                 Steamboy      Katsuhiro Ôtomo   \n",
       "3423                                    Akira      Katsuhiro Ôtomo   \n",
       "4542                            Godzilla 2000        Takao Okawara   \n",
       "3075                   Kabhi Alvida Naa Kehna          Karan Johar   \n",
       "3851                                    Tango         Carlos Saura   \n",
       "1338                                Red Cliff             John Woo   \n",
       "3311                 The Legend of Suriyothai  Chatrichalerm Yukol   \n",
       "1016  The Messenger: The Story of Joan of Arc           Luc Besson   \n",
       "2740                                Ong-bak 2             Tony Jaa   \n",
       "\n",
       "          country  duration  \\\n",
       "3859  South Korea     112.0   \n",
       "3005      Hungary     134.0   \n",
       "2323        Japan     134.0   \n",
       "2334        Japan     103.0   \n",
       "3423        Japan     124.0   \n",
       "4542        Japan      99.0   \n",
       "3075        India     193.0   \n",
       "3851        Spain     115.0   \n",
       "1338        China     150.0   \n",
       "3311     Thailand     300.0   \n",
       "1016       France     158.0   \n",
       "2740     Thailand     110.0   \n",
       "\n",
       "                                        movie_imdb_link  imdb_score  \\\n",
       "3859  http://www.imdb.com/title/tt0451094/?ref_=fn_t...         7.7   \n",
       "3005  http://www.imdb.com/title/tt0367082/?ref_=fn_t...         7.1   \n",
       "2323  http://www.imdb.com/title/tt0119698/?ref_=fn_t...         8.4   \n",
       "2334  http://www.imdb.com/title/tt0348121/?ref_=fn_t...         6.9   \n",
       "3423  http://www.imdb.com/title/tt0094625/?ref_=fn_t...         8.1   \n",
       "4542  http://www.imdb.com/title/tt0188640/?ref_=fn_t...         6.0   \n",
       "3075  http://www.imdb.com/title/tt0449999/?ref_=fn_t...         6.0   \n",
       "3851  http://www.imdb.com/title/tt0120274/?ref_=fn_t...         7.2   \n",
       "1338  http://www.imdb.com/title/tt0425637/?ref_=fn_t...         7.4   \n",
       "3311  http://www.imdb.com/title/tt0290879/?ref_=fn_t...         6.6   \n",
       "1016  http://www.imdb.com/title/tt0151137/?ref_=fn_t...         6.4   \n",
       "2740  http://www.imdb.com/title/tt0785035/?ref_=fn_t...         6.2   \n",
       "\n",
       "          budget     gross  \n",
       "3859  4200000000    211667  \n",
       "3005  2500000000    195888  \n",
       "2323  2400000000   2298191  \n",
       "2334  2127519898    410388  \n",
       "3423  1100000000    439162  \n",
       "4542  1000000000  10037390  \n",
       "3075   700000000   3275443  \n",
       "3851   700000000   1687311  \n",
       "1338   553632000    626809  \n",
       "3311   400000000    454255  \n",
       "1016   390000000  14131298  \n",
       "2740   300000000    102055  "
      ]
     },
     "execution_count": 59,
     "metadata": {},
     "output_type": "execute_result"
    }
   ],
   "source": [
    "df_movies_clean.sort_values(by=['budget'],ascending=False)[['movie_title','director_name','country','duration','movie_imdb_link',\n",
    "                                                  'imdb_score','budget','gross']].head(12)"
   ]
  },
  {
   "cell_type": "markdown",
   "metadata": {},
   "source": [
    "##### Define (Inconsistency)"
   ]
  },
  {
   "cell_type": "markdown",
   "metadata": {},
   "source": [
    "We'll have a closer look to the budget of the 11 highest budget. As those are not from the US and as we observed for the South Koerean \"The Host\", those could be in foreign currencies.\n",
    "\n",
    "The Budget of \n",
    "> - \"Lady Vengeance\" is in South Korean currency => we'll convert it to US dollars\n",
    "> - \"Fateless\" is in Hungarian currency \n",
    "> - \"Princess Mononoke\" is in Japanese currency\n",
    "> - \"Steamboy\" is in Japanese currency\n",
    "> - \"Akira\" is in Japanese currency\n",
    "> - \"Godzilla\" is in Japanese currency\n",
    "> - \"Tango\" is in previous spanisch peseta's\n",
    "> - \"Kabhi Alvida Naa Kehna\" is in Indian currency\n",
    "> - \"Kites\" is in Indian currency\n",
    "> - \"Red Cliff\" is in Chinese currency\n",
    "> - \"Ong Bag 2\" is in Thais currency\n"
   ]
  },
  {
   "cell_type": "markdown",
   "metadata": {},
   "source": [
    "##### Code"
   ]
  },
  {
   "cell_type": "code",
   "execution_count": 60,
   "metadata": {},
   "outputs": [],
   "source": [
    "df_movies_clean.loc[[3859], ['budget']] = 3756709\n",
    "df_movies_clean.loc[[3005], ['budget']] = 8912524\n",
    "df_movies_clean.loc[[2323], ['budget']] = 21833226\n",
    "df_movies_clean.loc[[2334], ['budget']] = 19354426\n",
    "df_movies_clean.loc[[3423], ['budget']] = 10006895\n",
    "df_movies_clean.loc[[4542], ['budget']] = 13000000 \n",
    "df_movies_clean.loc[[3851], ['budget']] = 4799396\n",
    "df_movies_clean.loc[[3075], ['budget']] = 9864937\n",
    "#df_movies_clean.loc[[3273], ['budget']] = 8455349\n",
    "df_movies_clean.loc[[1338], ['budget']] = 82035784\n",
    "df_movies_clean.loc[[1016], ['budget']] = 85000000\n",
    "df_movies_clean.loc[[2740], ['budget']] = 9514851\n"
   ]
  },
  {
   "cell_type": "code",
   "execution_count": 61,
   "metadata": {},
   "outputs": [
    {
     "data": {
      "text/html": [
       "<div>\n",
       "<style scoped>\n",
       "    .dataframe tbody tr th:only-of-type {\n",
       "        vertical-align: middle;\n",
       "    }\n",
       "\n",
       "    .dataframe tbody tr th {\n",
       "        vertical-align: top;\n",
       "    }\n",
       "\n",
       "    .dataframe thead th {\n",
       "        text-align: right;\n",
       "    }\n",
       "</style>\n",
       "<table border=\"1\" class=\"dataframe\">\n",
       "  <thead>\n",
       "    <tr style=\"text-align: right;\">\n",
       "      <th></th>\n",
       "      <th>movie_title</th>\n",
       "      <th>director_name</th>\n",
       "      <th>country</th>\n",
       "      <th>duration</th>\n",
       "      <th>movie_imdb_link</th>\n",
       "      <th>imdb_score</th>\n",
       "      <th>budget</th>\n",
       "      <th>gross</th>\n",
       "    </tr>\n",
       "  </thead>\n",
       "  <tbody>\n",
       "    <tr>\n",
       "      <th>2</th>\n",
       "      <td>Spectre</td>\n",
       "      <td>Sam Mendes</td>\n",
       "      <td>UK</td>\n",
       "      <td>148.0</td>\n",
       "      <td>http://www.imdb.com/title/tt2379713/?ref_=fn_t...</td>\n",
       "      <td>6.8</td>\n",
       "      <td>245000000</td>\n",
       "      <td>200074175</td>\n",
       "    </tr>\n",
       "    <tr>\n",
       "      <th>9</th>\n",
       "      <td>Harry Potter and the Half-Blood Prince</td>\n",
       "      <td>David Yates</td>\n",
       "      <td>UK</td>\n",
       "      <td>153.0</td>\n",
       "      <td>http://www.imdb.com/title/tt0417741/?ref_=fn_t...</td>\n",
       "      <td>7.5</td>\n",
       "      <td>250000000</td>\n",
       "      <td>301956980</td>\n",
       "    </tr>\n",
       "    <tr>\n",
       "      <th>12</th>\n",
       "      <td>Quantum of Solace</td>\n",
       "      <td>Marc Forster</td>\n",
       "      <td>UK</td>\n",
       "      <td>106.0</td>\n",
       "      <td>http://www.imdb.com/title/tt0830515/?ref_=fn_t...</td>\n",
       "      <td>6.7</td>\n",
       "      <td>200000000</td>\n",
       "      <td>168368427</td>\n",
       "    </tr>\n",
       "    <tr>\n",
       "      <th>20</th>\n",
       "      <td>The Hobbit: The Battle of the Five Armies</td>\n",
       "      <td>Peter Jackson</td>\n",
       "      <td>New Zealand</td>\n",
       "      <td>164.0</td>\n",
       "      <td>http://www.imdb.com/title/tt2310332/?ref_=fn_t...</td>\n",
       "      <td>7.5</td>\n",
       "      <td>250000000</td>\n",
       "      <td>255108370</td>\n",
       "    </tr>\n",
       "    <tr>\n",
       "      <th>25</th>\n",
       "      <td>King Kong</td>\n",
       "      <td>Peter Jackson</td>\n",
       "      <td>New Zealand</td>\n",
       "      <td>201.0</td>\n",
       "      <td>http://www.imdb.com/title/tt0360717/?ref_=fn_t...</td>\n",
       "      <td>7.2</td>\n",
       "      <td>207000000</td>\n",
       "      <td>218051260</td>\n",
       "    </tr>\n",
       "  </tbody>\n",
       "</table>\n",
       "</div>"
      ],
      "text/plain": [
       "                                  movie_title  director_name      country  \\\n",
       "2                                     Spectre     Sam Mendes           UK   \n",
       "9      Harry Potter and the Half-Blood Prince    David Yates           UK   \n",
       "12                          Quantum of Solace   Marc Forster           UK   \n",
       "20  The Hobbit: The Battle of the Five Armies  Peter Jackson  New Zealand   \n",
       "25                                  King Kong  Peter Jackson  New Zealand   \n",
       "\n",
       "    duration                                    movie_imdb_link  imdb_score  \\\n",
       "2      148.0  http://www.imdb.com/title/tt2379713/?ref_=fn_t...         6.8   \n",
       "9      153.0  http://www.imdb.com/title/tt0417741/?ref_=fn_t...         7.5   \n",
       "12     106.0  http://www.imdb.com/title/tt0830515/?ref_=fn_t...         6.7   \n",
       "20     164.0  http://www.imdb.com/title/tt2310332/?ref_=fn_t...         7.5   \n",
       "25     201.0  http://www.imdb.com/title/tt0360717/?ref_=fn_t...         7.2   \n",
       "\n",
       "       budget      gross  \n",
       "2   245000000  200074175  \n",
       "9   250000000  301956980  \n",
       "12  200000000  168368427  \n",
       "20  250000000  255108370  \n",
       "25  207000000  218051260  "
      ]
     },
     "execution_count": 61,
     "metadata": {},
     "output_type": "execute_result"
    }
   ],
   "source": [
    "df_movies_clean.query('(budget>110000000) and (country != \"USA\") ')[['movie_title','director_name','country','duration','movie_imdb_link',\n",
    "                                                  'imdb_score','budget','gross']].head(5)"
   ]
  },
  {
   "cell_type": "markdown",
   "metadata": {},
   "source": [
    "##### Let's automate the check of the currency on the imdb url"
   ]
  },
  {
   "cell_type": "code",
   "execution_count": 62,
   "metadata": {},
   "outputs": [],
   "source": [
    "# Movies above the Boxplot limit and for which country isn't USA\n",
    "budget_check = df_movies_clean.query('(budget>110000000) and (country != \"USA\") ')[['movie_title','country',\n",
    "                                                                                    'movie_imdb_link','budget','gross']]"
   ]
  },
  {
   "cell_type": "code",
   "execution_count": 63,
   "metadata": {},
   "outputs": [],
   "source": [
    "import requests\n",
    "from bs4 import BeautifulSoup"
   ]
  },
  {
   "cell_type": "code",
   "execution_count": 64,
   "metadata": {},
   "outputs": [],
   "source": [
    "# Method to download the movie imdb webpage through its url\n",
    "def page_download(url):\n",
    "    response = requests.get(url)\n",
    "    content = response.content\n",
    "    parser = BeautifulSoup(content,'html.parser')    \n",
    "    return parser"
   ]
  },
  {
   "cell_type": "code",
   "execution_count": 65,
   "metadata": {},
   "outputs": [],
   "source": [
    "# Methode for extracting the budget from the parser\n",
    "def url_movie_budget(parser):\n",
    "    movie_details = parser.find_all(\"div\",id=\"titleDetails\")\n",
    "    details_budget = movie_details[0].find_all(class_=\"txt-block\")\n",
    "    details_budget_txt = details_budget[6].text\n",
    "    budget = details_budget_txt.replace(\"Budget:\",\"\").split(\"(\")[0]\n",
    "    return budget"
   ]
  },
  {
   "cell_type": "code",
   "execution_count": 66,
   "metadata": {},
   "outputs": [],
   "source": [
    "# Check if budget in dollars\n",
    "def check_budget_currencies(url):\n",
    "    parser = page_download(url)\n",
    "    budget = url_movie_budget(parser)\n",
    "    # If budget not expressed in dollars return True\n",
    "    test_dollars = budget.find('$')\n",
    "    if test_dollars == -1:\n",
    "        return True\n",
    "    else:\n",
    "        return False"
   ]
  },
  {
   "cell_type": "code",
   "execution_count": 67,
   "metadata": {},
   "outputs": [],
   "source": [
    "def foreign_budgets(budget_check):\n",
    "    list_movies = []\n",
    "    for movie in range(0,budget_check.shape[0]):\n",
    "        movie_title = budget_check.iloc[movie,0]\n",
    "        url = budget_check.iloc[movie,2]\n",
    "        if check_budget_currencies(url):\n",
    "            list_movies.append(movie_title)\n",
    "            print(\"\")\n",
    "            print(movie_title)\n",
    "            parser = page_download(url)\n",
    "            budget = url_movie_budget(parser)\n",
    "            print(budget)\n",
    "            print(\"++++++++++++++++++++++++\")\n",
    "    return list_movies\n",
    "        "
   ]
  },
  {
   "cell_type": "code",
   "execution_count": 68,
   "metadata": {},
   "outputs": [
    {
     "name": "stdout",
     "output_type": "stream",
     "text": [
      "\n",
      "Quantum of Solace\n",
      "\n",
      "Production Co:\n",
      " Metro-Goldwyn-Mayer \n",
      "++++++++++++++++++++++++\n",
      "\n",
      "King Kong\n",
      "\n",
      "Production Co:\n",
      " Universal Pictures, WingNut Films, Big Primate Pictures \n",
      "See more »\n",
      "      \n",
      "\n",
      "++++++++++++++++++++++++\n",
      "\n",
      "Alexander\n",
      "\n",
      "Production Co:\n",
      " Warner Bros., Intermedia Films, Pacifica Film \n",
      "See more »\n",
      "      \n",
      "\n",
      "++++++++++++++++++++++++\n",
      "\n",
      "Mad Max: Fury Road\n",
      "\n",
      "Production Co:\n",
      " Warner Bros. Pictures, Village Roadshow Pictures, Kennedy Miller Productions \n",
      "See more »\n",
      "      \n",
      "\n",
      "++++++++++++++++++++++++\n",
      "\n",
      "Winged Migration\n",
      "\n",
      "FRF 160,000,000\n",
      "            \n",
      "++++++++++++++++++++++++\n",
      "\n",
      "The Legend of Suriyothai\n",
      "\n",
      "THB 400,000,000\n",
      "            \n",
      "++++++++++++++++++++++++\n",
      "\n",
      "The Protector\n",
      "\n",
      "THB 200,000,000\n",
      "            \n",
      "++++++++++++++++++++++++\n"
     ]
    }
   ],
   "source": [
    "list_m = foreign_budgets(budget_check)"
   ]
  },
  {
   "cell_type": "markdown",
   "metadata": {},
   "source": [
    "#### Comments:\n",
    "> - Looking manually a the pages of \"Quantum of Solace\", \"King Kong\", \"Alexander\" and \"Mad Max \"no budget could be found. So we won't touch those budgets\n",
    "> - For the last 3 movies movies, we'll convert those to US dollars"
   ]
  },
  {
   "cell_type": "markdown",
   "metadata": {},
   "source": [
    "##### Code"
   ]
  },
  {
   "cell_type": "code",
   "execution_count": 69,
   "metadata": {},
   "outputs": [
    {
     "data": {
      "text/plain": [
       "['Winged Migration', 'The Legend of Suriyothai', 'The Protector']"
      ]
     },
     "execution_count": 69,
     "metadata": {},
     "output_type": "execute_result"
    }
   ],
   "source": [
    "list_m[4:]"
   ]
  },
  {
   "cell_type": "code",
   "execution_count": 70,
   "metadata": {},
   "outputs": [
    {
     "data": {
      "text/html": [
       "<div>\n",
       "<style scoped>\n",
       "    .dataframe tbody tr th:only-of-type {\n",
       "        vertical-align: middle;\n",
       "    }\n",
       "\n",
       "    .dataframe tbody tr th {\n",
       "        vertical-align: top;\n",
       "    }\n",
       "\n",
       "    .dataframe thead th {\n",
       "        text-align: right;\n",
       "    }\n",
       "</style>\n",
       "<table border=\"1\" class=\"dataframe\">\n",
       "  <thead>\n",
       "    <tr style=\"text-align: right;\">\n",
       "      <th></th>\n",
       "      <th>movie_title</th>\n",
       "      <th>country</th>\n",
       "      <th>budget</th>\n",
       "    </tr>\n",
       "  </thead>\n",
       "  <tbody>\n",
       "    <tr>\n",
       "      <th>1782</th>\n",
       "      <td>Winged Migration</td>\n",
       "      <td>France</td>\n",
       "      <td>160000000</td>\n",
       "    </tr>\n",
       "    <tr>\n",
       "      <th>3311</th>\n",
       "      <td>The Legend of Suriyothai</td>\n",
       "      <td>Thailand</td>\n",
       "      <td>400000000</td>\n",
       "    </tr>\n",
       "    <tr>\n",
       "      <th>3659</th>\n",
       "      <td>The Protector</td>\n",
       "      <td>Thailand</td>\n",
       "      <td>200000000</td>\n",
       "    </tr>\n",
       "  </tbody>\n",
       "</table>\n",
       "</div>"
      ],
      "text/plain": [
       "                   movie_title   country     budget\n",
       "1782          Winged Migration    France  160000000\n",
       "3311  The Legend of Suriyothai  Thailand  400000000\n",
       "3659             The Protector  Thailand  200000000"
      ]
     },
     "execution_count": 70,
     "metadata": {},
     "output_type": "execute_result"
    }
   ],
   "source": [
    "df_movies_clean.query('movie_title in [\"Winged Migration\", \"The Legend of Suriyothai\", \\\n",
    "                    \"The Protector\"]')[[\"movie_title\",\"country\",\"budget\"]]"
   ]
  },
  {
   "cell_type": "code",
   "execution_count": 71,
   "metadata": {},
   "outputs": [],
   "source": [
    "df_movies_clean.loc[[1782], ['budget']] = 27819290\n",
    "df_movies_clean.loc[[3311], ['budget']] = 12671813\n",
    "df_movies_clean.loc[[3659], ['budget']] = 6335906"
   ]
  },
  {
   "cell_type": "markdown",
   "metadata": {},
   "source": [
    "##### Test"
   ]
  },
  {
   "cell_type": "code",
   "execution_count": 72,
   "metadata": {},
   "outputs": [
    {
     "data": {
      "text/html": [
       "<div>\n",
       "<style scoped>\n",
       "    .dataframe tbody tr th:only-of-type {\n",
       "        vertical-align: middle;\n",
       "    }\n",
       "\n",
       "    .dataframe tbody tr th {\n",
       "        vertical-align: top;\n",
       "    }\n",
       "\n",
       "    .dataframe thead th {\n",
       "        text-align: right;\n",
       "    }\n",
       "</style>\n",
       "<table border=\"1\" class=\"dataframe\">\n",
       "  <thead>\n",
       "    <tr style=\"text-align: right;\">\n",
       "      <th></th>\n",
       "      <th>movie_title</th>\n",
       "      <th>country</th>\n",
       "      <th>budget</th>\n",
       "    </tr>\n",
       "  </thead>\n",
       "  <tbody>\n",
       "    <tr>\n",
       "      <th>1782</th>\n",
       "      <td>Winged Migration</td>\n",
       "      <td>France</td>\n",
       "      <td>27819290</td>\n",
       "    </tr>\n",
       "    <tr>\n",
       "      <th>3311</th>\n",
       "      <td>The Legend of Suriyothai</td>\n",
       "      <td>Thailand</td>\n",
       "      <td>12671813</td>\n",
       "    </tr>\n",
       "    <tr>\n",
       "      <th>3659</th>\n",
       "      <td>The Protector</td>\n",
       "      <td>Thailand</td>\n",
       "      <td>6335906</td>\n",
       "    </tr>\n",
       "  </tbody>\n",
       "</table>\n",
       "</div>"
      ],
      "text/plain": [
       "                   movie_title   country    budget\n",
       "1782          Winged Migration    France  27819290\n",
       "3311  The Legend of Suriyothai  Thailand  12671813\n",
       "3659             The Protector  Thailand   6335906"
      ]
     },
     "execution_count": 72,
     "metadata": {},
     "output_type": "execute_result"
    }
   ],
   "source": [
    "df_movies_clean.query('movie_title in [\"Winged Migration\", \"The Legend of Suriyothai\", \\\n",
    "                    \"The Protector\"]')[[\"movie_title\",\"country\",\"budget\"]]"
   ]
  },
  {
   "cell_type": "markdown",
   "metadata": {},
   "source": [
    "##### Now looking at budgets which seems to be too low"
   ]
  },
  {
   "cell_type": "code",
   "execution_count": 73,
   "metadata": {},
   "outputs": [
    {
     "data": {
      "text/html": [
       "<div>\n",
       "<style scoped>\n",
       "    .dataframe tbody tr th:only-of-type {\n",
       "        vertical-align: middle;\n",
       "    }\n",
       "\n",
       "    .dataframe tbody tr th {\n",
       "        vertical-align: top;\n",
       "    }\n",
       "\n",
       "    .dataframe thead th {\n",
       "        text-align: right;\n",
       "    }\n",
       "</style>\n",
       "<table border=\"1\" class=\"dataframe\">\n",
       "  <thead>\n",
       "    <tr style=\"text-align: right;\">\n",
       "      <th></th>\n",
       "      <th>movie_title</th>\n",
       "      <th>country</th>\n",
       "      <th>budget</th>\n",
       "    </tr>\n",
       "  </thead>\n",
       "  <tbody>\n",
       "    <tr>\n",
       "      <th>4799</th>\n",
       "      <td>Tarnation</td>\n",
       "      <td>USA</td>\n",
       "      <td>218</td>\n",
       "    </tr>\n",
       "    <tr>\n",
       "      <th>5042</th>\n",
       "      <td>My Date with Drew</td>\n",
       "      <td>USA</td>\n",
       "      <td>1100</td>\n",
       "    </tr>\n",
       "    <tr>\n",
       "      <th>5026</th>\n",
       "      <td>Clean</td>\n",
       "      <td>France</td>\n",
       "      <td>4500</td>\n",
       "    </tr>\n",
       "    <tr>\n",
       "      <th>5035</th>\n",
       "      <td>El Mariachi</td>\n",
       "      <td>USA</td>\n",
       "      <td>7000</td>\n",
       "    </tr>\n",
       "    <tr>\n",
       "      <th>5034</th>\n",
       "      <td>Cavite</td>\n",
       "      <td>Philippines</td>\n",
       "      <td>7000</td>\n",
       "    </tr>\n",
       "    <tr>\n",
       "      <th>5033</th>\n",
       "      <td>Primer</td>\n",
       "      <td>USA</td>\n",
       "      <td>7000</td>\n",
       "    </tr>\n",
       "    <tr>\n",
       "      <th>5037</th>\n",
       "      <td>Newlyweds</td>\n",
       "      <td>USA</td>\n",
       "      <td>9000</td>\n",
       "    </tr>\n",
       "    <tr>\n",
       "      <th>5027</th>\n",
       "      <td>The Circle</td>\n",
       "      <td>Iran</td>\n",
       "      <td>10000</td>\n",
       "    </tr>\n",
       "    <tr>\n",
       "      <th>5025</th>\n",
       "      <td>Pink Flamingos</td>\n",
       "      <td>USA</td>\n",
       "      <td>10000</td>\n",
       "    </tr>\n",
       "    <tr>\n",
       "      <th>4311</th>\n",
       "      <td>London</td>\n",
       "      <td>UK</td>\n",
       "      <td>14000</td>\n",
       "    </tr>\n",
       "  </tbody>\n",
       "</table>\n",
       "</div>"
      ],
      "text/plain": [
       "            movie_title      country  budget\n",
       "4799          Tarnation          USA     218\n",
       "5042  My Date with Drew          USA    1100\n",
       "5026              Clean       France    4500\n",
       "5035        El Mariachi          USA    7000\n",
       "5034             Cavite  Philippines    7000\n",
       "5033             Primer          USA    7000\n",
       "5037          Newlyweds          USA    9000\n",
       "5027         The Circle         Iran   10000\n",
       "5025     Pink Flamingos          USA   10000\n",
       "4311             London           UK   14000"
      ]
     },
     "execution_count": 73,
     "metadata": {},
     "output_type": "execute_result"
    }
   ],
   "source": [
    "df_movies_clean.sort_values(by=[\"budget\"]).head(10)[[\"movie_title\",\"country\",\"budget\"]]"
   ]
  },
  {
   "cell_type": "code",
   "execution_count": 74,
   "metadata": {},
   "outputs": [],
   "source": [
    "low_budget_check = df_movies_clean.query('budget < 50000')[['movie_title','country',\n",
    "                                                                                    'movie_imdb_link','budget','gross']]"
   ]
  },
  {
   "cell_type": "code",
   "execution_count": 75,
   "metadata": {},
   "outputs": [
    {
     "data": {
      "text/html": [
       "<div>\n",
       "<style scoped>\n",
       "    .dataframe tbody tr th:only-of-type {\n",
       "        vertical-align: middle;\n",
       "    }\n",
       "\n",
       "    .dataframe tbody tr th {\n",
       "        vertical-align: top;\n",
       "    }\n",
       "\n",
       "    .dataframe thead th {\n",
       "        text-align: right;\n",
       "    }\n",
       "</style>\n",
       "<table border=\"1\" class=\"dataframe\">\n",
       "  <thead>\n",
       "    <tr style=\"text-align: right;\">\n",
       "      <th></th>\n",
       "      <th>movie_title</th>\n",
       "      <th>country</th>\n",
       "      <th>movie_imdb_link</th>\n",
       "      <th>budget</th>\n",
       "      <th>gross</th>\n",
       "    </tr>\n",
       "  </thead>\n",
       "  <tbody>\n",
       "    <tr>\n",
       "      <th>4311</th>\n",
       "      <td>London</td>\n",
       "      <td>UK</td>\n",
       "      <td>http://www.imdb.com/title/tt0449061/?ref_=fn_t...</td>\n",
       "      <td>14000</td>\n",
       "      <td>12667</td>\n",
       "    </tr>\n",
       "    <tr>\n",
       "      <th>4735</th>\n",
       "      <td>Osama</td>\n",
       "      <td>Afghanistan</td>\n",
       "      <td>http://www.imdb.com/title/tt0368913/?ref_=fn_t...</td>\n",
       "      <td>46000</td>\n",
       "      <td>1127331</td>\n",
       "    </tr>\n",
       "    <tr>\n",
       "      <th>4793</th>\n",
       "      <td>Paranormal Activity</td>\n",
       "      <td>USA</td>\n",
       "      <td>http://www.imdb.com/title/tt1179904/?ref_=fn_t...</td>\n",
       "      <td>15000</td>\n",
       "      <td>107917283</td>\n",
       "    </tr>\n",
       "    <tr>\n",
       "      <th>4799</th>\n",
       "      <td>Tarnation</td>\n",
       "      <td>USA</td>\n",
       "      <td>http://www.imdb.com/title/tt0390538/?ref_=fn_t...</td>\n",
       "      <td>218</td>\n",
       "      <td>592014</td>\n",
       "    </tr>\n",
       "    <tr>\n",
       "      <th>4962</th>\n",
       "      <td>The Lost Skeleton of Cadavra</td>\n",
       "      <td>USA</td>\n",
       "      <td>http://www.imdb.com/title/tt0307109/?ref_=fn_t...</td>\n",
       "      <td>40000</td>\n",
       "      <td>110536</td>\n",
       "    </tr>\n",
       "  </tbody>\n",
       "</table>\n",
       "</div>"
      ],
      "text/plain": [
       "                       movie_title      country  \\\n",
       "4311                        London           UK   \n",
       "4735                         Osama  Afghanistan   \n",
       "4793           Paranormal Activity          USA   \n",
       "4799                     Tarnation          USA   \n",
       "4962  The Lost Skeleton of Cadavra          USA   \n",
       "\n",
       "                                        movie_imdb_link  budget      gross  \n",
       "4311  http://www.imdb.com/title/tt0449061/?ref_=fn_t...   14000      12667  \n",
       "4735  http://www.imdb.com/title/tt0368913/?ref_=fn_t...   46000    1127331  \n",
       "4793  http://www.imdb.com/title/tt1179904/?ref_=fn_t...   15000  107917283  \n",
       "4799  http://www.imdb.com/title/tt0390538/?ref_=fn_t...     218     592014  \n",
       "4962  http://www.imdb.com/title/tt0307109/?ref_=fn_t...   40000     110536  "
      ]
     },
     "execution_count": 75,
     "metadata": {},
     "output_type": "execute_result"
    }
   ],
   "source": [
    "low_budget_check.head(5)"
   ]
  },
  {
   "cell_type": "code",
   "execution_count": 76,
   "metadata": {},
   "outputs": [],
   "source": [
    "def low_budgets(low_budget_check):\n",
    "    list_movies = []\n",
    "    for movie in range(0,low_budget_check.shape[0]):\n",
    "        movie_title = low_budget_check.iloc[movie,0]\n",
    "        list_movies.append(movie_title)\n",
    "        url = low_budget_check.iloc[movie,2]\n",
    "        print(\"\")\n",
    "        print(movie_title)\n",
    "        parser = page_download(url)\n",
    "        budget = url_movie_budget(parser)\n",
    "        print(budget)\n",
    "        print(\"++++++++++++++++++++++++\")\n",
    "        \n",
    "    return list_movies"
   ]
  },
  {
   "cell_type": "code",
   "execution_count": 77,
   "metadata": {},
   "outputs": [
    {
     "name": "stdout",
     "output_type": "stream",
     "text": [
      "\n",
      "London\n",
      "\n",
      "£14,000\n",
      "            \n",
      "++++++++++++++++++++++++\n",
      "\n",
      "Osama\n",
      "\n",
      "$46,000\n",
      "            \n",
      "++++++++++++++++++++++++\n",
      "\n",
      "Paranormal Activity\n",
      "\n",
      "$15,000\n",
      "            \n",
      "++++++++++++++++++++++++\n",
      "\n",
      "Tarnation\n",
      "\n",
      "Opening Weekend USA: $12,740,\n",
      "10 October 2004, Limited Release\n",
      "\n",
      "++++++++++++++++++++++++\n",
      "\n",
      "The Lost Skeleton of Cadavra\n",
      "\n",
      "$40,000\n",
      "            \n",
      "++++++++++++++++++++++++\n",
      "\n",
      "The Brothers McMullen\n",
      "\n",
      "Gross USA: $10,246,600\n",
      "        \n",
      "++++++++++++++++++++++++\n",
      "\n",
      "George Washington\n",
      "\n",
      "Opening Weekend USA: $13,335,\n",
      "29 October 2000, Limited Release\n",
      "\n",
      "++++++++++++++++++++++++\n",
      "\n",
      "Smiling Fish & Goat on Fire\n",
      "\n",
      "Opening Weekend USA: $12,994,\n",
      "27 August 2000, Limited Release\n",
      "\n",
      "++++++++++++++++++++++++\n",
      "\n",
      "The Legend of God's Gun\n",
      "\n",
      "Opening Weekend USA: $15,096,\n",
      "20 July 2008, Limited Release\n",
      "\n",
      "++++++++++++++++++++++++\n",
      "\n",
      "Pink Narcissus\n",
      "\n",
      "Opening Weekend USA: $1,724,\n",
      "26 December 1999, Limited Release\n",
      "\n",
      "++++++++++++++++++++++++\n",
      "\n",
      "In the Company of Men\n",
      "\n",
      "Opening Weekend USA: $100,006,\n",
      "3 August 1997, Limited Release\n",
      "\n",
      "++++++++++++++++++++++++\n",
      "\n",
      "Slacker\n",
      "\n",
      "Opening Weekend USA: $24,307,\n",
      "5 July 1991, Limited Release\n",
      "\n",
      "++++++++++++++++++++++++\n",
      "\n",
      "The Puffy Chair\n",
      "\n",
      "Gross USA: $192,467, 10 September 2006\n",
      "\n",
      "++++++++++++++++++++++++\n",
      "\n",
      "Pink Flamingos\n",
      "\n",
      "Opening Weekend USA: $70,188,\n",
      "13 April 1997, Limited Release\n",
      "\n",
      "++++++++++++++++++++++++\n",
      "\n",
      "Clean\n",
      "\n",
      "£4,500\n",
      "            \n",
      "++++++++++++++++++++++++\n",
      "\n",
      "The Circle\n",
      "\n",
      "$10,000\n",
      "            \n",
      "++++++++++++++++++++++++\n",
      "\n",
      "Primer\n",
      "\n",
      "$7,000\n",
      "            \n",
      "++++++++++++++++++++++++\n",
      "\n",
      "Cavite\n",
      "\n",
      "$7,000\n",
      "            \n",
      "++++++++++++++++++++++++\n",
      "\n",
      "El Mariachi\n",
      "\n",
      "Opening Weekend USA: $312,528,\n",
      "18 July 2012, Limited Release\n",
      "\n",
      "++++++++++++++++++++++++\n",
      "\n",
      "Newlyweds\n",
      "\n",
      "Opening Weekend USA: $4,584,\n",
      "15 January 2012, Limited Release\n",
      "\n",
      "++++++++++++++++++++++++\n",
      "\n",
      "My Date with Drew\n",
      "\n",
      "$1,100\n",
      "            \n",
      "++++++++++++++++++++++++\n"
     ]
    }
   ],
   "source": [
    "movies_low_budget = low_budgets(low_budget_check)"
   ]
  },
  {
   "cell_type": "markdown",
   "metadata": {},
   "source": [
    "##### Comments:\n",
    "> we'll adapt the budgets of the movies for which a budget was available on the imdb webpage"
   ]
  },
  {
   "cell_type": "code",
   "execution_count": 78,
   "metadata": {},
   "outputs": [
    {
     "data": {
      "text/html": [
       "<div>\n",
       "<style scoped>\n",
       "    .dataframe tbody tr th:only-of-type {\n",
       "        vertical-align: middle;\n",
       "    }\n",
       "\n",
       "    .dataframe tbody tr th {\n",
       "        vertical-align: top;\n",
       "    }\n",
       "\n",
       "    .dataframe thead th {\n",
       "        text-align: right;\n",
       "    }\n",
       "</style>\n",
       "<table border=\"1\" class=\"dataframe\">\n",
       "  <thead>\n",
       "    <tr style=\"text-align: right;\">\n",
       "      <th></th>\n",
       "      <th>movie_title</th>\n",
       "      <th>country</th>\n",
       "      <th>budget</th>\n",
       "    </tr>\n",
       "  </thead>\n",
       "  <tbody>\n",
       "    <tr>\n",
       "      <th>4311</th>\n",
       "      <td>London</td>\n",
       "      <td>UK</td>\n",
       "      <td>14000</td>\n",
       "    </tr>\n",
       "    <tr>\n",
       "      <th>5026</th>\n",
       "      <td>Clean</td>\n",
       "      <td>France</td>\n",
       "      <td>4500</td>\n",
       "    </tr>\n",
       "  </tbody>\n",
       "</table>\n",
       "</div>"
      ],
      "text/plain": [
       "     movie_title country  budget\n",
       "4311      London      UK   14000\n",
       "5026       Clean  France    4500"
      ]
     },
     "execution_count": 78,
     "metadata": {},
     "output_type": "execute_result"
    }
   ],
   "source": [
    "df_movies_clean.query('movie_title in [\"London\",  \"Clean\"]')[[\"movie_title\",\"country\",\"budget\"]]"
   ]
  },
  {
   "cell_type": "markdown",
   "metadata": {},
   "source": [
    "##### Code"
   ]
  },
  {
   "cell_type": "code",
   "execution_count": 79,
   "metadata": {},
   "outputs": [],
   "source": [
    "df_movies_clean.loc[[4311], ['budget']] = 18488\n",
    "df_movies_clean.loc[[5026], ['budget']] = 5942"
   ]
  },
  {
   "cell_type": "markdown",
   "metadata": {},
   "source": [
    "##### Test"
   ]
  },
  {
   "cell_type": "code",
   "execution_count": 80,
   "metadata": {},
   "outputs": [
    {
     "data": {
      "text/html": [
       "<div>\n",
       "<style scoped>\n",
       "    .dataframe tbody tr th:only-of-type {\n",
       "        vertical-align: middle;\n",
       "    }\n",
       "\n",
       "    .dataframe tbody tr th {\n",
       "        vertical-align: top;\n",
       "    }\n",
       "\n",
       "    .dataframe thead th {\n",
       "        text-align: right;\n",
       "    }\n",
       "</style>\n",
       "<table border=\"1\" class=\"dataframe\">\n",
       "  <thead>\n",
       "    <tr style=\"text-align: right;\">\n",
       "      <th></th>\n",
       "      <th>movie_title</th>\n",
       "      <th>country</th>\n",
       "      <th>budget</th>\n",
       "    </tr>\n",
       "  </thead>\n",
       "  <tbody>\n",
       "    <tr>\n",
       "      <th>4311</th>\n",
       "      <td>London</td>\n",
       "      <td>UK</td>\n",
       "      <td>18488</td>\n",
       "    </tr>\n",
       "    <tr>\n",
       "      <th>5026</th>\n",
       "      <td>Clean</td>\n",
       "      <td>France</td>\n",
       "      <td>5942</td>\n",
       "    </tr>\n",
       "  </tbody>\n",
       "</table>\n",
       "</div>"
      ],
      "text/plain": [
       "     movie_title country  budget\n",
       "4311      London      UK   18488\n",
       "5026       Clean  France    5942"
      ]
     },
     "execution_count": 80,
     "metadata": {},
     "output_type": "execute_result"
    }
   ],
   "source": [
    "df_movies_clean.query('movie_title in [\"London\",  \"Clean\"]')[[\"movie_title\",\"country\",\"budget\"]]"
   ]
  },
  {
   "cell_type": "markdown",
   "metadata": {},
   "source": [
    "####  Adding a column revenue (Feature Engineering)"
   ]
  },
  {
   "cell_type": "markdown",
   "metadata": {},
   "source": [
    "##### Define"
   ]
  },
  {
   "cell_type": "markdown",
   "metadata": {},
   "source": [
    "Adding column revenue (= gross - budget) to the dataframe"
   ]
  },
  {
   "cell_type": "markdown",
   "metadata": {},
   "source": [
    "##### Code"
   ]
  },
  {
   "cell_type": "code",
   "execution_count": 81,
   "metadata": {},
   "outputs": [],
   "source": [
    "df_movies_clean['revenue'] = df_movies_clean['gross']-df_movies_clean['budget']"
   ]
  },
  {
   "cell_type": "markdown",
   "metadata": {},
   "source": [
    "##### Test"
   ]
  },
  {
   "cell_type": "code",
   "execution_count": 82,
   "metadata": {},
   "outputs": [
    {
     "data": {
      "text/html": [
       "<div>\n",
       "<style scoped>\n",
       "    .dataframe tbody tr th:only-of-type {\n",
       "        vertical-align: middle;\n",
       "    }\n",
       "\n",
       "    .dataframe tbody tr th {\n",
       "        vertical-align: top;\n",
       "    }\n",
       "\n",
       "    .dataframe thead th {\n",
       "        text-align: right;\n",
       "    }\n",
       "</style>\n",
       "<table border=\"1\" class=\"dataframe\">\n",
       "  <thead>\n",
       "    <tr style=\"text-align: right;\">\n",
       "      <th></th>\n",
       "      <th>revenue</th>\n",
       "      <th>gross</th>\n",
       "      <th>budget</th>\n",
       "    </tr>\n",
       "  </thead>\n",
       "  <tbody>\n",
       "    <tr>\n",
       "      <th>612</th>\n",
       "      <td>-21569645</td>\n",
       "      <td>48430355</td>\n",
       "      <td>70000000</td>\n",
       "    </tr>\n",
       "    <tr>\n",
       "      <th>2326</th>\n",
       "      <td>-99275</td>\n",
       "      <td>1900725</td>\n",
       "      <td>2000000</td>\n",
       "    </tr>\n",
       "    <tr>\n",
       "      <th>169</th>\n",
       "      <td>-61357548</td>\n",
       "      <td>68642452</td>\n",
       "      <td>130000000</td>\n",
       "    </tr>\n",
       "    <tr>\n",
       "      <th>584</th>\n",
       "      <td>82149590</td>\n",
       "      <td>152149590</td>\n",
       "      <td>70000000</td>\n",
       "    </tr>\n",
       "    <tr>\n",
       "      <th>3312</th>\n",
       "      <td>-8650382</td>\n",
       "      <td>349618</td>\n",
       "      <td>9000000</td>\n",
       "    </tr>\n",
       "  </tbody>\n",
       "</table>\n",
       "</div>"
      ],
      "text/plain": [
       "       revenue      gross     budget\n",
       "612  -21569645   48430355   70000000\n",
       "2326    -99275    1900725    2000000\n",
       "169  -61357548   68642452  130000000\n",
       "584   82149590  152149590   70000000\n",
       "3312  -8650382     349618    9000000"
      ]
     },
     "execution_count": 82,
     "metadata": {},
     "output_type": "execute_result"
    }
   ],
   "source": [
    "df_movies_clean[['revenue','gross','budget']].sample(5)"
   ]
  },
  {
   "cell_type": "markdown",
   "metadata": {},
   "source": [
    "#### Test"
   ]
  },
  {
   "cell_type": "code",
   "execution_count": 83,
   "metadata": {},
   "outputs": [
    {
     "name": "stdout",
     "output_type": "stream",
     "text": [
      "movie_title    The Host\n",
      "budget         10921414\n",
      "gross           2201412\n",
      "revenue        -8720002\n",
      "Name: 2988, dtype: object\n"
     ]
    }
   ],
   "source": [
    "print(df_movies_clean.loc[2988][['movie_title','budget','gross','revenue']])"
   ]
  },
  {
   "cell_type": "markdown",
   "metadata": {},
   "source": [
    "#### Likes related columns"
   ]
  },
  {
   "cell_type": "code",
   "execution_count": 84,
   "metadata": {},
   "outputs": [
    {
     "data": {
      "image/png": "[encoded data removed]",
      "text/plain": [
       "<Figure size 720x360 with 1 Axes>"
      ]
     },
     "metadata": {},
     "output_type": "display_data"
    }
   ],
   "source": [
    "plt.figure(figsize = [10,5])\n",
    "sb.boxplot(x=\"variable\", y=\"value\", data=df_movies_clean[likes].melt(),color=base_color)\n",
    "plt.title(\"Boxplot for likes related columns\")\n",
    "plt.xlabel(\"\")\n",
    "plt.ylabel(\"number of likes\")\n",
    "plt.xticks(rotation = 90);\n",
    "plt.show()"
   ]
  },
  {
   "cell_type": "code",
   "execution_count": 85,
   "metadata": {},
   "outputs": [
    {
     "data": {
      "text/html": [
       "<div>\n",
       "<style scoped>\n",
       "    .dataframe tbody tr th:only-of-type {\n",
       "        vertical-align: middle;\n",
       "    }\n",
       "\n",
       "    .dataframe tbody tr th {\n",
       "        vertical-align: top;\n",
       "    }\n",
       "\n",
       "    .dataframe thead th {\n",
       "        text-align: right;\n",
       "    }\n",
       "</style>\n",
       "<table border=\"1\" class=\"dataframe\">\n",
       "  <thead>\n",
       "    <tr style=\"text-align: right;\">\n",
       "      <th></th>\n",
       "      <th>movie_facebook_likes</th>\n",
       "      <th>director_facebook_likes</th>\n",
       "      <th>actor_1_facebook_likes</th>\n",
       "      <th>actor_2_facebook_likes</th>\n",
       "      <th>actor_3_facebook_likes</th>\n",
       "      <th>cast_total_facebook_likes</th>\n",
       "    </tr>\n",
       "  </thead>\n",
       "  <tbody>\n",
       "    <tr>\n",
       "      <th>count</th>\n",
       "      <td>3733.000000</td>\n",
       "      <td>3733.000000</td>\n",
       "      <td>3733.000000</td>\n",
       "      <td>3733.000000</td>\n",
       "      <td>3733.000000</td>\n",
       "      <td>3733.000000</td>\n",
       "    </tr>\n",
       "    <tr>\n",
       "      <th>mean</th>\n",
       "      <td>9026.744709</td>\n",
       "      <td>797.596035</td>\n",
       "      <td>7575.385481</td>\n",
       "      <td>1953.735334</td>\n",
       "      <td>744.023038</td>\n",
       "      <td>11235.259041</td>\n",
       "    </tr>\n",
       "    <tr>\n",
       "      <th>std</th>\n",
       "      <td>21319.294329</td>\n",
       "      <td>3059.804006</td>\n",
       "      <td>15521.625810</td>\n",
       "      <td>4475.980967</td>\n",
       "      <td>1832.874467</td>\n",
       "      <td>18996.883679</td>\n",
       "    </tr>\n",
       "    <tr>\n",
       "      <th>min</th>\n",
       "      <td>0.000000</td>\n",
       "      <td>0.000000</td>\n",
       "      <td>0.000000</td>\n",
       "      <td>0.000000</td>\n",
       "      <td>0.000000</td>\n",
       "      <td>0.000000</td>\n",
       "    </tr>\n",
       "    <tr>\n",
       "      <th>25%</th>\n",
       "      <td>0.000000</td>\n",
       "      <td>10.000000</td>\n",
       "      <td>723.000000</td>\n",
       "      <td>368.000000</td>\n",
       "      <td>186.000000</td>\n",
       "      <td>1845.000000</td>\n",
       "    </tr>\n",
       "    <tr>\n",
       "      <th>50%</th>\n",
       "      <td>204.000000</td>\n",
       "      <td>58.000000</td>\n",
       "      <td>1000.000000</td>\n",
       "      <td>664.000000</td>\n",
       "      <td>429.000000</td>\n",
       "      <td>3917.000000</td>\n",
       "    </tr>\n",
       "    <tr>\n",
       "      <th>75%</th>\n",
       "      <td>11000.000000</td>\n",
       "      <td>226.000000</td>\n",
       "      <td>12000.000000</td>\n",
       "      <td>971.000000</td>\n",
       "      <td>685.000000</td>\n",
       "      <td>15922.000000</td>\n",
       "    </tr>\n",
       "    <tr>\n",
       "      <th>max</th>\n",
       "      <td>349000.000000</td>\n",
       "      <td>23000.000000</td>\n",
       "      <td>640000.000000</td>\n",
       "      <td>137000.000000</td>\n",
       "      <td>23000.000000</td>\n",
       "      <td>656730.000000</td>\n",
       "    </tr>\n",
       "  </tbody>\n",
       "</table>\n",
       "</div>"
      ],
      "text/plain": [
       "       movie_facebook_likes  director_facebook_likes  actor_1_facebook_likes  \\\n",
       "count           3733.000000              3733.000000             3733.000000   \n",
       "mean            9026.744709               797.596035             7575.385481   \n",
       "std            21319.294329              3059.804006            15521.625810   \n",
       "min                0.000000                 0.000000                0.000000   \n",
       "25%                0.000000                10.000000              723.000000   \n",
       "50%              204.000000                58.000000             1000.000000   \n",
       "75%            11000.000000               226.000000            12000.000000   \n",
       "max           349000.000000             23000.000000           640000.000000   \n",
       "\n",
       "       actor_2_facebook_likes  actor_3_facebook_likes  \\\n",
       "count             3733.000000             3733.000000   \n",
       "mean              1953.735334              744.023038   \n",
       "std               4475.980967             1832.874467   \n",
       "min                  0.000000                0.000000   \n",
       "25%                368.000000              186.000000   \n",
       "50%                664.000000              429.000000   \n",
       "75%                971.000000              685.000000   \n",
       "max             137000.000000            23000.000000   \n",
       "\n",
       "       cast_total_facebook_likes  \n",
       "count                3733.000000  \n",
       "mean                11235.259041  \n",
       "std                 18996.883679  \n",
       "min                     0.000000  \n",
       "25%                  1845.000000  \n",
       "50%                  3917.000000  \n",
       "75%                 15922.000000  \n",
       "max                656730.000000  "
      ]
     },
     "execution_count": 85,
     "metadata": {},
     "output_type": "execute_result"
    }
   ],
   "source": [
    "df_movies_clean[likes].describe()"
   ]
  },
  {
   "cell_type": "markdown",
   "metadata": {},
   "source": [
    "##### Define"
   ]
  },
  {
   "cell_type": "markdown",
   "metadata": {},
   "source": [
    "Adding a columns with the difference between 'cast_total_facebook_likes' and the sum of the likes of the cast"
   ]
  },
  {
   "cell_type": "markdown",
   "metadata": {},
   "source": [
    "##### Code"
   ]
  },
  {
   "cell_type": "code",
   "execution_count": 86,
   "metadata": {},
   "outputs": [],
   "source": [
    "df_movies_clean['likes_check']=df_movies_clean['cast_total_facebook_likes']-(df_movies_clean['director_facebook_likes']+\\\n",
    "                                df_movies_clean['actor_1_facebook_likes'] + df_movies_clean['actor_2_facebook_likes']\\\n",
    "                                + df_movies_clean['actor_3_facebook_likes'])"
   ]
  },
  {
   "cell_type": "markdown",
   "metadata": {},
   "source": [
    "##### Test"
   ]
  },
  {
   "cell_type": "code",
   "execution_count": 87,
   "metadata": {},
   "outputs": [
    {
     "data": {
      "text/html": [
       "<div>\n",
       "<style scoped>\n",
       "    .dataframe tbody tr th:only-of-type {\n",
       "        vertical-align: middle;\n",
       "    }\n",
       "\n",
       "    .dataframe tbody tr th {\n",
       "        vertical-align: top;\n",
       "    }\n",
       "\n",
       "    .dataframe thead th {\n",
       "        text-align: right;\n",
       "    }\n",
       "</style>\n",
       "<table border=\"1\" class=\"dataframe\">\n",
       "  <thead>\n",
       "    <tr style=\"text-align: right;\">\n",
       "      <th></th>\n",
       "      <th>likes_check</th>\n",
       "      <th>cast_total_facebook_likes</th>\n",
       "      <th>director_facebook_likes</th>\n",
       "      <th>actor_1_facebook_likes</th>\n",
       "      <th>actor_2_facebook_likes</th>\n",
       "      <th>actor_3_facebook_likes</th>\n",
       "    </tr>\n",
       "  </thead>\n",
       "  <tbody>\n",
       "    <tr>\n",
       "      <th>0</th>\n",
       "      <td>2043</td>\n",
       "      <td>4834</td>\n",
       "      <td>0</td>\n",
       "      <td>1000</td>\n",
       "      <td>936</td>\n",
       "      <td>855</td>\n",
       "    </tr>\n",
       "    <tr>\n",
       "      <th>1</th>\n",
       "      <td>1787</td>\n",
       "      <td>48350</td>\n",
       "      <td>563</td>\n",
       "      <td>40000</td>\n",
       "      <td>5000</td>\n",
       "      <td>1000</td>\n",
       "    </tr>\n",
       "    <tr>\n",
       "      <th>2</th>\n",
       "      <td>146</td>\n",
       "      <td>11700</td>\n",
       "      <td>0</td>\n",
       "      <td>11000</td>\n",
       "      <td>393</td>\n",
       "      <td>161</td>\n",
       "    </tr>\n",
       "    <tr>\n",
       "      <th>3</th>\n",
       "      <td>11759</td>\n",
       "      <td>106759</td>\n",
       "      <td>22000</td>\n",
       "      <td>27000</td>\n",
       "      <td>23000</td>\n",
       "      <td>23000</td>\n",
       "    </tr>\n",
       "    <tr>\n",
       "      <th>5</th>\n",
       "      <td>-404</td>\n",
       "      <td>1873</td>\n",
       "      <td>475</td>\n",
       "      <td>640</td>\n",
       "      <td>632</td>\n",
       "      <td>530</td>\n",
       "    </tr>\n",
       "  </tbody>\n",
       "</table>\n",
       "</div>"
      ],
      "text/plain": [
       "   likes_check  cast_total_facebook_likes  director_facebook_likes  \\\n",
       "0         2043                       4834                        0   \n",
       "1         1787                      48350                      563   \n",
       "2          146                      11700                        0   \n",
       "3        11759                     106759                    22000   \n",
       "5         -404                       1873                      475   \n",
       "\n",
       "   actor_1_facebook_likes  actor_2_facebook_likes  actor_3_facebook_likes  \n",
       "0                    1000                     936                     855  \n",
       "1                   40000                    5000                    1000  \n",
       "2                   11000                     393                     161  \n",
       "3                   27000                   23000                   23000  \n",
       "5                     640                     632                     530  "
      ]
     },
     "execution_count": 87,
     "metadata": {},
     "output_type": "execute_result"
    }
   ],
   "source": [
    "df_movies_clean[['likes_check','cast_total_facebook_likes','director_facebook_likes','actor_1_facebook_likes',\\\n",
    "                'actor_2_facebook_likes','actor_3_facebook_likes']].head(5)"
   ]
  },
  {
   "cell_type": "code",
   "execution_count": 88,
   "metadata": {},
   "outputs": [
    {
     "data": {
      "text/plain": [
       "count     3733.000000\n",
       "mean       164.519153\n",
       "std       3273.650571\n",
       "min     -21749.000000\n",
       "25%         43.000000\n",
       "50%        432.000000\n",
       "75%       1092.000000\n",
       "max      26000.000000\n",
       "Name: likes_check, dtype: float64"
      ]
     },
     "execution_count": 88,
     "metadata": {},
     "output_type": "execute_result"
    }
   ],
   "source": [
    "df_movies_clean.likes_check.describe()"
   ]
  },
  {
   "cell_type": "code",
   "execution_count": 89,
   "metadata": {},
   "outputs": [
    {
     "data": {
      "image/png": "[encoded data removed]",
      "text/plain": [
       "<Figure size 432x288 with 1 Axes>"
      ]
     },
     "metadata": {},
     "output_type": "display_data"
    }
   ],
   "source": [
    "df_movies_clean['likes_check'].plot(kind='box')\n",
    "plt.ylabel('Diff cast_total_facebook_likes vs Sum')\n",
    "plt.title(\"Boxplot of likes_check\");"
   ]
  },
  {
   "cell_type": "markdown",
   "metadata": {},
   "source": [
    "#### Likes \n",
    "> Looking a the variability of the likes, it will be important during the exploration phase to study which likes counts eventually could be used, if some."
   ]
  },
  {
   "cell_type": "markdown",
   "metadata": {},
   "source": [
    "<a id='exporting'></a>\n",
    "### Exporting Cleaned data in csv\n",
    "<a href=\"#table\">Back to table of content</a>"
   ]
  },
  {
   "cell_type": "code",
   "execution_count": 90,
   "metadata": {},
   "outputs": [],
   "source": [
    "df_movies_clean.to_csv('df_movies_clean.csv', encoding='utf_8', index=False)"
   ]
  }
 ],
 "metadata": {
  "kernelspec": {
   "display_name": "Python 3",
   "language": "python",
   "name": "python3"
  },
  "language_info": {
   "codemirror_mode": {
    "name": "ipython",
    "version": 3
   },
   "file_extension": ".py",
   "mimetype": "text/x-python",
   "name": "python",
   "nbconvert_exporter": "python",
   "pygments_lexer": "ipython3",
   "version": "3.7.2"
  }
 },
 "nbformat": 4,
 "nbformat_minor": 2
}
